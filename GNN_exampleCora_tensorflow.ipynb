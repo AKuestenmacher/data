{
  "cells": [
    {
      "cell_type": "markdown",
      "metadata": {
        "id": "view-in-github",
        "colab_type": "text"
      },
      "source": [
        "<a href=\"https://colab.research.google.com/github/AKuestenmacher/data/blob/master/GNN_exampleCora_tensorflow.ipynb\" target=\"_parent\"><img src=\"https://colab.research.google.com/assets/colab-badge.svg\" alt=\"Open In Colab\"/></a>"
      ]
    },
    {
      "cell_type": "markdown",
      "metadata": {
        "id": "2_-XaDmVe8ki"
      },
      "source": [
        "# Node Classification with Graph Neural Networks\n",
        "\n",
        "**Author:** [Khalid Salama](https://www.linkedin.com/in/khalid-salama-24403144/)<br>\n",
        "**Date created:** 2021/05/30<br>\n",
        "**Last modified:** 2021/05/30<br>\n",
        "**Description:** Implementing a graph neural network model for predicting the topic of a paper given its citations."
      ]
    },
    {
      "cell_type": "markdown",
      "metadata": {
        "id": "ZiOcgQxXe8kk"
      },
      "source": [
        "## Introduction\n",
        "\n",
        "Many datasets in various machine learning (ML) applications have structural relationships\n",
        "between their entities, which can be represented as graphs. Such application includes\n",
        "social and communication networks analysis, traffic prediction, and fraud detection.\n",
        "[Graph representation Learning](https://www.cs.mcgill.ca/~wlh/grl_book/)\n",
        "aims to build and train models for graph datasets to be used for a variety of ML tasks.\n",
        "\n",
        "This example demonstrate a simple implementation of a [Graph Neural Network](https://arxiv.org/pdf/1901.00596.pdf)\n",
        "(GNN) model. The model is used for a node prediction task on the [Cora dataset](https://relational.fit.cvut.cz/dataset/CORA)\n",
        "to predict the subject of a paper given its words and citations network.\n",
        "\n",
        "Note that, **we implement a Graph Convolution Layer from scratch** to provide better\n",
        "understanding of how they work. However, there is a number of specialized TensorFlow-based\n",
        "libraries that provide rich GNN APIs, such as [Spectral](https://graphneural.network/),\n",
        "[StellarGraph](https://stellargraph.readthedocs.io/en/stable/README.html), and\n",
        "[GraphNets](https://github.com/deepmind/graph_nets)."
      ]
    },
    {
      "cell_type": "markdown",
      "metadata": {
        "id": "uLGwewOhe8kl"
      },
      "source": [
        "## Setup"
      ]
    },
    {
      "cell_type": "code",
      "execution_count": null,
      "metadata": {
        "id": "e77b0v3oe8kl"
      },
      "outputs": [],
      "source": [
        "import os\n",
        "import pandas as pd\n",
        "import numpy as np\n",
        "import networkx as nx\n",
        "import matplotlib.pyplot as plt\n",
        "import tensorflow as tf\n",
        "from tensorflow import keras\n",
        "from tensorflow.keras import layers"
      ]
    },
    {
      "cell_type": "markdown",
      "metadata": {
        "id": "v7heouBPe8kl"
      },
      "source": [
        "## Prepare the Dataset\n",
        "\n",
        "The Cora dataset consists of 2,708 scientific papers classified into one of seven classes.\n",
        "The citation network consists of 5,429 links. Each paper has a binary word vector of size\n",
        "1,433, indicating the presence of a corresponding word.\n",
        "\n",
        "### Download the dataset\n",
        "\n",
        "The dataset has two tap-separated files: `cora.cites` and `cora.content`.\n",
        "\n",
        "1. The `cora.cites` includes the citation records with two columns:\n",
        "`cited_paper_id` (target) and `citing_paper_id` (source).\n",
        "2. The `cora.content` includes the paper content records with 1,435 columns:\n",
        "`paper_id`, `subject`, and 1,433 binary features.\n",
        "\n",
        "Let's download the dataset."
      ]
    },
    {
      "cell_type": "code",
      "execution_count": null,
      "metadata": {
        "id": "y_dtgdG0e8km",
        "outputId": "201d0bbe-de91-4aaa-bc02-7893c2c4987f",
        "colab": {
          "base_uri": "https://localhost:8080/"
        }
      },
      "outputs": [
        {
          "output_type": "stream",
          "name": "stdout",
          "text": [
            "Downloading data from https://linqs-data.soe.ucsc.edu/public/lbc/cora.tgz\n",
            "168052/168052 [==============================] - 0s 0us/step\n"
          ]
        }
      ],
      "source": [
        "zip_file = keras.utils.get_file(\n",
        "    fname=\"cora.tgz\",\n",
        "    origin=\"https://linqs-data.soe.ucsc.edu/public/lbc/cora.tgz\",\n",
        "    extract=True,\n",
        ")\n",
        "data_dir = os.path.join(os.path.dirname(zip_file), \"cora\")"
      ]
    },
    {
      "cell_type": "markdown",
      "metadata": {
        "id": "kXAXsCnze8km"
      },
      "source": [
        "### Process and visualize the dataset\n",
        "\n",
        "Then we load the citations data into a Pandas DataFrame."
      ]
    },
    {
      "cell_type": "code",
      "execution_count": null,
      "metadata": {
        "id": "ojBXsCBue8km",
        "outputId": "416d9bf6-32f1-4b53-efc1-e1e2af0869d0",
        "colab": {
          "base_uri": "https://localhost:8080/"
        }
      },
      "outputs": [
        {
          "output_type": "stream",
          "name": "stdout",
          "text": [
            "Citations shape: (5429, 2)\n"
          ]
        }
      ],
      "source": [
        "citations = pd.read_csv(\n",
        "    os.path.join(data_dir, \"cora.cites\"),\n",
        "    sep=\"\\t\",\n",
        "    header=None,\n",
        "    names=[\"target\", \"source\"],\n",
        ")\n",
        "print(\"Citations shape:\", citations.shape)"
      ]
    },
    {
      "cell_type": "markdown",
      "metadata": {
        "id": "7RLC6G2ue8km"
      },
      "source": [
        "Now we display a sample of the `citations` DataFrame.\n",
        "The `target` column includes the paper ids cited by the paper ids in the `source` column."
      ]
    },
    {
      "cell_type": "code",
      "execution_count": null,
      "metadata": {
        "id": "dZ-36zCfe8kn",
        "outputId": "2bc45050-ede3-4b4c-a0e4-44a2652a7fc4",
        "colab": {
          "base_uri": "https://localhost:8080/",
          "height": 206
        }
      },
      "outputs": [
        {
          "output_type": "execute_result",
          "data": {
            "text/plain": [
              "      target   source\n",
              "2301   20602  1121537\n",
              "4296  153063  1131223\n",
              "2960   37888  1108389\n",
              "3365   57119   595056\n",
              "1812   12198    12158"
            ],
            "text/html": [
              "\n",
              "  <div id=\"df-b1c0fdc0-82a4-45eb-b731-fd52b7349062\">\n",
              "    <div class=\"colab-df-container\">\n",
              "      <div>\n",
              "<style scoped>\n",
              "    .dataframe tbody tr th:only-of-type {\n",
              "        vertical-align: middle;\n",
              "    }\n",
              "\n",
              "    .dataframe tbody tr th {\n",
              "        vertical-align: top;\n",
              "    }\n",
              "\n",
              "    .dataframe thead th {\n",
              "        text-align: right;\n",
              "    }\n",
              "</style>\n",
              "<table border=\"1\" class=\"dataframe\">\n",
              "  <thead>\n",
              "    <tr style=\"text-align: right;\">\n",
              "      <th></th>\n",
              "      <th>target</th>\n",
              "      <th>source</th>\n",
              "    </tr>\n",
              "  </thead>\n",
              "  <tbody>\n",
              "    <tr>\n",
              "      <th>2301</th>\n",
              "      <td>20602</td>\n",
              "      <td>1121537</td>\n",
              "    </tr>\n",
              "    <tr>\n",
              "      <th>4296</th>\n",
              "      <td>153063</td>\n",
              "      <td>1131223</td>\n",
              "    </tr>\n",
              "    <tr>\n",
              "      <th>2960</th>\n",
              "      <td>37888</td>\n",
              "      <td>1108389</td>\n",
              "    </tr>\n",
              "    <tr>\n",
              "      <th>3365</th>\n",
              "      <td>57119</td>\n",
              "      <td>595056</td>\n",
              "    </tr>\n",
              "    <tr>\n",
              "      <th>1812</th>\n",
              "      <td>12198</td>\n",
              "      <td>12158</td>\n",
              "    </tr>\n",
              "  </tbody>\n",
              "</table>\n",
              "</div>\n",
              "      <button class=\"colab-df-convert\" onclick=\"convertToInteractive('df-b1c0fdc0-82a4-45eb-b731-fd52b7349062')\"\n",
              "              title=\"Convert this dataframe to an interactive table.\"\n",
              "              style=\"display:none;\">\n",
              "        \n",
              "  <svg xmlns=\"http://www.w3.org/2000/svg\" height=\"24px\"viewBox=\"0 0 24 24\"\n",
              "       width=\"24px\">\n",
              "    <path d=\"M0 0h24v24H0V0z\" fill=\"none\"/>\n",
              "    <path d=\"M18.56 5.44l.94 2.06.94-2.06 2.06-.94-2.06-.94-.94-2.06-.94 2.06-2.06.94zm-11 1L8.5 8.5l.94-2.06 2.06-.94-2.06-.94L8.5 2.5l-.94 2.06-2.06.94zm10 10l.94 2.06.94-2.06 2.06-.94-2.06-.94-.94-2.06-.94 2.06-2.06.94z\"/><path d=\"M17.41 7.96l-1.37-1.37c-.4-.4-.92-.59-1.43-.59-.52 0-1.04.2-1.43.59L10.3 9.45l-7.72 7.72c-.78.78-.78 2.05 0 2.83L4 21.41c.39.39.9.59 1.41.59.51 0 1.02-.2 1.41-.59l7.78-7.78 2.81-2.81c.8-.78.8-2.07 0-2.86zM5.41 20L4 18.59l7.72-7.72 1.47 1.35L5.41 20z\"/>\n",
              "  </svg>\n",
              "      </button>\n",
              "      \n",
              "  <style>\n",
              "    .colab-df-container {\n",
              "      display:flex;\n",
              "      flex-wrap:wrap;\n",
              "      gap: 12px;\n",
              "    }\n",
              "\n",
              "    .colab-df-convert {\n",
              "      background-color: #E8F0FE;\n",
              "      border: none;\n",
              "      border-radius: 50%;\n",
              "      cursor: pointer;\n",
              "      display: none;\n",
              "      fill: #1967D2;\n",
              "      height: 32px;\n",
              "      padding: 0 0 0 0;\n",
              "      width: 32px;\n",
              "    }\n",
              "\n",
              "    .colab-df-convert:hover {\n",
              "      background-color: #E2EBFA;\n",
              "      box-shadow: 0px 1px 2px rgba(60, 64, 67, 0.3), 0px 1px 3px 1px rgba(60, 64, 67, 0.15);\n",
              "      fill: #174EA6;\n",
              "    }\n",
              "\n",
              "    [theme=dark] .colab-df-convert {\n",
              "      background-color: #3B4455;\n",
              "      fill: #D2E3FC;\n",
              "    }\n",
              "\n",
              "    [theme=dark] .colab-df-convert:hover {\n",
              "      background-color: #434B5C;\n",
              "      box-shadow: 0px 1px 3px 1px rgba(0, 0, 0, 0.15);\n",
              "      filter: drop-shadow(0px 1px 2px rgba(0, 0, 0, 0.3));\n",
              "      fill: #FFFFFF;\n",
              "    }\n",
              "  </style>\n",
              "\n",
              "      <script>\n",
              "        const buttonEl =\n",
              "          document.querySelector('#df-b1c0fdc0-82a4-45eb-b731-fd52b7349062 button.colab-df-convert');\n",
              "        buttonEl.style.display =\n",
              "          google.colab.kernel.accessAllowed ? 'block' : 'none';\n",
              "\n",
              "        async function convertToInteractive(key) {\n",
              "          const element = document.querySelector('#df-b1c0fdc0-82a4-45eb-b731-fd52b7349062');\n",
              "          const dataTable =\n",
              "            await google.colab.kernel.invokeFunction('convertToInteractive',\n",
              "                                                     [key], {});\n",
              "          if (!dataTable) return;\n",
              "\n",
              "          const docLinkHtml = 'Like what you see? Visit the ' +\n",
              "            '<a target=\"_blank\" href=https://colab.research.google.com/notebooks/data_table.ipynb>data table notebook</a>'\n",
              "            + ' to learn more about interactive tables.';\n",
              "          element.innerHTML = '';\n",
              "          dataTable['output_type'] = 'display_data';\n",
              "          await google.colab.output.renderOutput(dataTable, element);\n",
              "          const docLink = document.createElement('div');\n",
              "          docLink.innerHTML = docLinkHtml;\n",
              "          element.appendChild(docLink);\n",
              "        }\n",
              "      </script>\n",
              "    </div>\n",
              "  </div>\n",
              "  "
            ]
          },
          "metadata": {},
          "execution_count": 4
        }
      ],
      "source": [
        "citations.sample(frac=1).head()"
      ]
    },
    {
      "cell_type": "markdown",
      "metadata": {
        "id": "jJFafRv4e8kn"
      },
      "source": [
        "Now let's load the papers data into a Pandas DataFrame."
      ]
    },
    {
      "cell_type": "code",
      "execution_count": null,
      "metadata": {
        "id": "h4EGzzbde8kn",
        "outputId": "f6383dbb-1b6b-4378-e883-af44886f45ec",
        "colab": {
          "base_uri": "https://localhost:8080/"
        }
      },
      "outputs": [
        {
          "output_type": "stream",
          "name": "stdout",
          "text": [
            "Papers shape: (2708, 1435)\n"
          ]
        }
      ],
      "source": [
        "column_names = [\"paper_id\"] + [f\"term_{idx}\" for idx in range(1433)] + [\"subject\"]\n",
        "papers = pd.read_csv(\n",
        "    os.path.join(data_dir, \"cora.content\"), sep=\"\\t\", header=None, names=column_names,\n",
        ")\n",
        "print(\"Papers shape:\", papers.shape)"
      ]
    },
    {
      "cell_type": "markdown",
      "metadata": {
        "id": "3n8zfFDxe8kn"
      },
      "source": [
        "Now we display a sample of the `papers` DataFrame. The DataFrame includes the `paper_id`\n",
        "and the `subject` columns, as well as 1,433 binary column representing whether a term exists\n",
        "in the paper or not."
      ]
    },
    {
      "cell_type": "code",
      "execution_count": null,
      "metadata": {
        "id": "qiJTFpzxe8kn",
        "outputId": "98a0910e-788d-4a6d-daf3-5adb395d8058",
        "colab": {
          "base_uri": "https://localhost:8080/"
        }
      },
      "outputs": [
        {
          "output_type": "stream",
          "name": "stdout",
          "text": [
            "                      2281             254      1092    1491  \\\n",
            "paper_id           1131565          1153933  1116842    6238   \n",
            "term_0                   0                0        0       0   \n",
            "term_1                   0                0        0       0   \n",
            "term_2                   0                0        0       0   \n",
            "term_3                   0                0        0       0   \n",
            "...                    ...              ...      ...     ...   \n",
            "term_1429                0                0        0       0   \n",
            "term_1430                0                0        0       0   \n",
            "term_1431                0                0        0       0   \n",
            "term_1432                0                0        0       0   \n",
            "subject    Neural_Networks  Neural_Networks   Theory  Theory   \n",
            "\n",
            "                         2192  \n",
            "paper_id                17811  \n",
            "term_0                      0  \n",
            "term_1                      0  \n",
            "term_2                      0  \n",
            "term_3                      0  \n",
            "...                       ...  \n",
            "term_1429                   0  \n",
            "term_1430                   0  \n",
            "term_1431                   0  \n",
            "term_1432                   0  \n",
            "subject    Genetic_Algorithms  \n",
            "\n",
            "[1435 rows x 5 columns]\n"
          ]
        }
      ],
      "source": [
        "print(papers.sample(5).T)"
      ]
    },
    {
      "cell_type": "markdown",
      "metadata": {
        "id": "uEb4jrrYe8kn"
      },
      "source": [
        "Let's display the count of the papers in each subject."
      ]
    },
    {
      "cell_type": "code",
      "execution_count": null,
      "metadata": {
        "id": "_ClH-pPWe8kn",
        "outputId": "3907ac34-89a4-429e-e01f-c28310263bb0",
        "colab": {
          "base_uri": "https://localhost:8080/"
        }
      },
      "outputs": [
        {
          "output_type": "stream",
          "name": "stdout",
          "text": [
            "Neural_Networks           818\n",
            "Probabilistic_Methods     426\n",
            "Genetic_Algorithms        418\n",
            "Theory                    351\n",
            "Case_Based                298\n",
            "Reinforcement_Learning    217\n",
            "Rule_Learning             180\n",
            "Name: subject, dtype: int64\n"
          ]
        }
      ],
      "source": [
        "print(papers.subject.value_counts())"
      ]
    },
    {
      "cell_type": "markdown",
      "metadata": {
        "id": "BHEJbhg8e8kn"
      },
      "source": [
        "We convert the paper ids and the subjects into zero-based indices."
      ]
    },
    {
      "cell_type": "code",
      "execution_count": null,
      "metadata": {
        "id": "mJ-48a0de8ko"
      },
      "outputs": [],
      "source": [
        "class_values = sorted(papers[\"subject\"].unique())\n",
        "class_idx = {name: id for id, name in enumerate(class_values)}\n",
        "paper_idx = {name: idx for idx, name in enumerate(sorted(papers[\"paper_id\"].unique()))}\n",
        "\n",
        "papers[\"paper_id\"] = papers[\"paper_id\"].apply(lambda name: paper_idx[name])\n",
        "citations[\"source\"] = citations[\"source\"].apply(lambda name: paper_idx[name])\n",
        "citations[\"target\"] = citations[\"target\"].apply(lambda name: paper_idx[name])\n",
        "papers[\"subject\"] = papers[\"subject\"].apply(lambda value: class_idx[value])"
      ]
    },
    {
      "cell_type": "markdown",
      "metadata": {
        "id": "5Ty5f5DWe8ko"
      },
      "source": [
        "Now let's visualize the citation graph. Each node in the graph represents a paper,\n",
        "and the color of the node corresponds to its subject. Note that we only show a sample of\n",
        "the papers in the dataset."
      ]
    },
    {
      "cell_type": "code",
      "execution_count": null,
      "metadata": {
        "id": "MS-GUtuYe8ko",
        "outputId": "a82b38c9-15c5-4794-cf6c-845d09e9977c",
        "colab": {
          "base_uri": "https://localhost:8080/",
          "height": 751
        }
      },
      "outputs": [
        {
          "output_type": "display_data",
          "data": {
            "text/plain": [
              "<Figure size 720x720 with 1 Axes>"
            ],
            "image/png": "[encoded data removed]"
          },
          "metadata": {}
        }
      ],
      "source": [
        "plt.figure(figsize=(10, 10))\n",
        "colors = papers[\"subject\"].tolist()\n",
        "cora_graph = nx.from_pandas_edgelist(citations.sample(n=1500))\n",
        "subjects = list(papers[papers[\"paper_id\"].isin(list(cora_graph.nodes))][\"subject\"])\n",
        "nx.draw_spring(cora_graph, node_size=15, node_color=subjects)\n"
      ]
    },
    {
      "cell_type": "markdown",
      "metadata": {
        "id": "nVz_N1lOe8ko"
      },
      "source": [
        "### Split the dataset into stratified train and test sets"
      ]
    },
    {
      "cell_type": "code",
      "execution_count": null,
      "metadata": {
        "id": "50vdYlqEe8ko",
        "outputId": "c832f035-0b67-4027-d40c-13968f1714cc",
        "colab": {
          "base_uri": "https://localhost:8080/"
        }
      },
      "outputs": [
        {
          "output_type": "stream",
          "name": "stdout",
          "text": [
            "Train data shape: (1317, 1435)\n",
            "Test data shape: (1391, 1435)\n"
          ]
        }
      ],
      "source": [
        "train_data, test_data = [], []\n",
        "\n",
        "for _, group_data in papers.groupby(\"subject\"):\n",
        "    # Select around 50% of the dataset for training.\n",
        "    random_selection = np.random.rand(len(group_data.index)) <= 0.5\n",
        "    train_data.append(group_data[random_selection])\n",
        "    test_data.append(group_data[~random_selection])\n",
        "\n",
        "train_data = pd.concat(train_data).sample(frac=1)\n",
        "test_data = pd.concat(test_data).sample(frac=1)\n",
        "\n",
        "print(\"Train data shape:\", train_data.shape)\n",
        "print(\"Test data shape:\", test_data.shape)"
      ]
    },
    {
      "cell_type": "markdown",
      "metadata": {
        "id": "wTbJVSr2e8ko"
      },
      "source": [
        "## Implement Train and Evaluate Experiment"
      ]
    },
    {
      "cell_type": "code",
      "execution_count": null,
      "metadata": {
        "id": "Elae1wjMe8ko"
      },
      "outputs": [],
      "source": [
        "hidden_units = [32, 32]\n",
        "learning_rate = 0.01\n",
        "dropout_rate = 0.5\n",
        "num_epochs = 300\n",
        "batch_size = 256"
      ]
    },
    {
      "cell_type": "markdown",
      "metadata": {
        "id": "M7-jpRyZe8ko"
      },
      "source": [
        "This function compiles and trains an input model using the given training data."
      ]
    },
    {
      "cell_type": "code",
      "execution_count": null,
      "metadata": {
        "id": "bMlElHb5e8ko"
      },
      "outputs": [],
      "source": [
        "\n",
        "def run_experiment(model, x_train, y_train):\n",
        "    # Compile the model.\n",
        "    model.compile(\n",
        "        optimizer=keras.optimizers.Adam(learning_rate),\n",
        "        loss=keras.losses.SparseCategoricalCrossentropy(from_logits=True),\n",
        "        metrics=[keras.metrics.SparseCategoricalAccuracy(name=\"acc\")],\n",
        "    )\n",
        "    # Create an early stopping callback.\n",
        "    early_stopping = keras.callbacks.EarlyStopping(\n",
        "        monitor=\"val_acc\", patience=50, restore_best_weights=True\n",
        "    )\n",
        "    # Fit the model.\n",
        "    history = model.fit(\n",
        "        x=x_train,\n",
        "        y=y_train,\n",
        "        epochs=num_epochs,\n",
        "        batch_size=batch_size,\n",
        "        validation_split=0.15,\n",
        "        callbacks=[early_stopping],\n",
        "    )\n",
        "\n",
        "    return history\n"
      ]
    },
    {
      "cell_type": "markdown",
      "metadata": {
        "id": "0bmL42mYe8ko"
      },
      "source": [
        "This function displays the loss and accuracy curves of the model during training."
      ]
    },
    {
      "cell_type": "code",
      "execution_count": null,
      "metadata": {
        "id": "-oINJZfce8ko"
      },
      "outputs": [],
      "source": [
        "\n",
        "def display_learning_curves(history):\n",
        "    fig, (ax1, ax2) = plt.subplots(1, 2, figsize=(15, 5))\n",
        "\n",
        "    ax1.plot(history.history[\"loss\"])\n",
        "    ax1.plot(history.history[\"val_loss\"])\n",
        "    ax1.legend([\"train\", \"test\"], loc=\"upper right\")\n",
        "    ax1.set_xlabel(\"Epochs\")\n",
        "    ax1.set_ylabel(\"Loss\")\n",
        "\n",
        "    ax2.plot(history.history[\"acc\"])\n",
        "    ax2.plot(history.history[\"val_acc\"])\n",
        "    ax2.legend([\"train\", \"test\"], loc=\"upper right\")\n",
        "    ax2.set_xlabel(\"Epochs\")\n",
        "    ax2.set_ylabel(\"Accuracy\")\n",
        "    plt.show()\n"
      ]
    },
    {
      "cell_type": "markdown",
      "metadata": {
        "id": "tm3zYa0qe8ko"
      },
      "source": [
        "## Implement Feedforward Network (FFN) Module\n",
        "\n",
        "We will use this module in the baseline and the GNN models."
      ]
    },
    {
      "cell_type": "code",
      "execution_count": null,
      "metadata": {
        "id": "icULhGege8ko"
      },
      "outputs": [],
      "source": [
        "\n",
        "def create_ffn(hidden_units, dropout_rate, name=None):\n",
        "    fnn_layers = []\n",
        "\n",
        "    for units in hidden_units:\n",
        "        fnn_layers.append(layers.BatchNormalization())\n",
        "        fnn_layers.append(layers.Dropout(dropout_rate))\n",
        "        fnn_layers.append(layers.Dense(units, activation=tf.nn.gelu))\n",
        "\n",
        "    return keras.Sequential(fnn_layers, name=name)\n"
      ]
    },
    {
      "cell_type": "markdown",
      "metadata": {
        "id": "4wgs9TxEe8kp"
      },
      "source": [
        "## Build a Baseline Neural Network Model\n",
        "\n",
        "### Prepare the data for the baseline model"
      ]
    },
    {
      "cell_type": "code",
      "execution_count": null,
      "metadata": {
        "id": "Ke8QdhEue8kp"
      },
      "outputs": [],
      "source": [
        "feature_names = set(papers.columns) - {\"paper_id\", \"subject\"}\n",
        "num_features = len(feature_names)\n",
        "num_classes = len(class_idx)\n",
        "\n",
        "# Create train and test features as a numpy array.\n",
        "x_train = train_data[feature_names].to_numpy()\n",
        "x_test = test_data[feature_names].to_numpy()\n",
        "# Create train and test targets as a numpy array.\n",
        "y_train = train_data[\"subject\"]\n",
        "y_test = test_data[\"subject\"]"
      ]
    },
    {
      "cell_type": "markdown",
      "metadata": {
        "id": "a-IPxDHqe8kp"
      },
      "source": [
        "### Implement a baseline classifier\n",
        "\n",
        "We add five FFN blocks with skip connections, so that we generate a baseline model with\n",
        "roughly the same number of parameters as the GNN models to be built later."
      ]
    },
    {
      "cell_type": "code",
      "execution_count": null,
      "metadata": {
        "id": "XB9cIzsfe8kp",
        "outputId": "56ebb031-efd7-499f-9fe8-c97a0ddfb4bb",
        "colab": {
          "base_uri": "https://localhost:8080/"
        }
      },
      "outputs": [
        {
          "output_type": "stream",
          "name": "stdout",
          "text": [
            "Model: \"baseline\"\n",
            "__________________________________________________________________________________________________\n",
            " Layer (type)                   Output Shape         Param #     Connected to                     \n",
            "==================================================================================================\n",
            " input_features (InputLayer)    [(None, 1433)]       0           []                               \n",
            "                                                                                                  \n",
            " ffn_block1 (Sequential)        (None, 32)           52804       ['input_features[0][0]']         \n",
            "                                                                                                  \n",
            " ffn_block2 (Sequential)        (None, 32)           2368        ['ffn_block1[0][0]']             \n",
            "                                                                                                  \n",
            " skip_connection2 (Add)         (None, 32)           0           ['ffn_block1[0][0]',             \n",
            "                                                                  'ffn_block2[0][0]']             \n",
            "                                                                                                  \n",
            " ffn_block3 (Sequential)        (None, 32)           2368        ['skip_connection2[0][0]']       \n",
            "                                                                                                  \n",
            " skip_connection3 (Add)         (None, 32)           0           ['skip_connection2[0][0]',       \n",
            "                                                                  'ffn_block3[0][0]']             \n",
            "                                                                                                  \n",
            " ffn_block4 (Sequential)        (None, 32)           2368        ['skip_connection3[0][0]']       \n",
            "                                                                                                  \n",
            " skip_connection4 (Add)         (None, 32)           0           ['skip_connection3[0][0]',       \n",
            "                                                                  'ffn_block4[0][0]']             \n",
            "                                                                                                  \n",
            " ffn_block5 (Sequential)        (None, 32)           2368        ['skip_connection4[0][0]']       \n",
            "                                                                                                  \n",
            " skip_connection5 (Add)         (None, 32)           0           ['skip_connection4[0][0]',       \n",
            "                                                                  'ffn_block5[0][0]']             \n",
            "                                                                                                  \n",
            " logits (Dense)                 (None, 7)            231         ['skip_connection5[0][0]']       \n",
            "                                                                                                  \n",
            "==================================================================================================\n",
            "Total params: 62,507\n",
            "Trainable params: 59,065\n",
            "Non-trainable params: 3,442\n",
            "__________________________________________________________________________________________________\n"
          ]
        }
      ],
      "source": [
        "\n",
        "def create_baseline_model(hidden_units, num_classes, dropout_rate=0.2):\n",
        "    inputs = layers.Input(shape=(num_features,), name=\"input_features\")\n",
        "    x = create_ffn(hidden_units, dropout_rate, name=f\"ffn_block1\")(inputs)\n",
        "    for block_idx in range(4):\n",
        "        # Create an FFN block.\n",
        "        x1 = create_ffn(hidden_units, dropout_rate, name=f\"ffn_block{block_idx + 2}\")(x)\n",
        "        # Add skip connection.\n",
        "        x = layers.Add(name=f\"skip_connection{block_idx + 2}\")([x, x1])\n",
        "    # Compute logits.\n",
        "    logits = layers.Dense(num_classes, name=\"logits\")(x)\n",
        "    # Create the model.\n",
        "    return keras.Model(inputs=inputs, outputs=logits, name=\"baseline\")\n",
        "\n",
        "\n",
        "baseline_model = create_baseline_model(hidden_units, num_classes, dropout_rate)\n",
        "baseline_model.summary()"
      ]
    },
    {
      "cell_type": "markdown",
      "metadata": {
        "id": "-2Xis5lxe8kp"
      },
      "source": [
        "### Train the baseline classifier"
      ]
    },
    {
      "cell_type": "code",
      "execution_count": null,
      "metadata": {
        "id": "YrAu6sHne8kp",
        "outputId": "b6859b86-2a54-43ed-b6e3-fb4a7e0fdca7",
        "colab": {
          "base_uri": "https://localhost:8080/"
        }
      },
      "outputs": [
        {
          "output_type": "stream",
          "name": "stdout",
          "text": [
            "Epoch 1/300\n",
            "5/5 [==============================] - 16s 181ms/step - loss: 3.7812 - acc: 0.1743 - val_loss: 1.8823 - val_acc: 0.2879\n",
            "Epoch 2/300\n",
            "5/5 [==============================] - 0s 29ms/step - loss: 2.7762 - acc: 0.2172 - val_loss: 1.8626 - val_acc: 0.2879\n",
            "Epoch 3/300\n",
            "5/5 [==============================] - 0s 21ms/step - loss: 2.4795 - acc: 0.2440 - val_loss: 1.8523 - val_acc: 0.2879\n",
            "Epoch 4/300\n",
            "5/5 [==============================] - 0s 22ms/step - loss: 2.2713 - acc: 0.2824 - val_loss: 1.8636 - val_acc: 0.2828\n",
            "Epoch 5/300\n",
            "5/5 [==============================] - 0s 29ms/step - loss: 1.9843 - acc: 0.3047 - val_loss: 1.8728 - val_acc: 0.2929\n",
            "Epoch 6/300\n",
            "5/5 [==============================] - 0s 27ms/step - loss: 1.8300 - acc: 0.3128 - val_loss: 1.8676 - val_acc: 0.3131\n",
            "Epoch 7/300\n",
            "5/5 [==============================] - 0s 21ms/step - loss: 1.7794 - acc: 0.3485 - val_loss: 1.8354 - val_acc: 0.2929\n",
            "Epoch 8/300\n",
            "5/5 [==============================] - 0s 23ms/step - loss: 1.7550 - acc: 0.3378 - val_loss: 1.8134 - val_acc: 0.2879\n",
            "Epoch 9/300\n",
            "5/5 [==============================] - 0s 26ms/step - loss: 1.6134 - acc: 0.3870 - val_loss: 1.7875 - val_acc: 0.2929\n",
            "Epoch 10/300\n",
            "5/5 [==============================] - 0s 24ms/step - loss: 1.6317 - acc: 0.3968 - val_loss: 1.7516 - val_acc: 0.3030\n",
            "Epoch 11/300\n",
            "5/5 [==============================] - 0s 30ms/step - loss: 1.5676 - acc: 0.4111 - val_loss: 1.7078 - val_acc: 0.3788\n",
            "Epoch 12/300\n",
            "5/5 [==============================] - 0s 30ms/step - loss: 1.4976 - acc: 0.4540 - val_loss: 1.6576 - val_acc: 0.3838\n",
            "Epoch 13/300\n",
            "5/5 [==============================] - 0s 29ms/step - loss: 1.4401 - acc: 0.4790 - val_loss: 1.5992 - val_acc: 0.4040\n",
            "Epoch 14/300\n",
            "5/5 [==============================] - 0s 30ms/step - loss: 1.3880 - acc: 0.4879 - val_loss: 1.5295 - val_acc: 0.4293\n",
            "Epoch 15/300\n",
            "5/5 [==============================] - 0s 27ms/step - loss: 1.3251 - acc: 0.5299 - val_loss: 1.4429 - val_acc: 0.4697\n",
            "Epoch 16/300\n",
            "5/5 [==============================] - 0s 27ms/step - loss: 1.2237 - acc: 0.5612 - val_loss: 1.3710 - val_acc: 0.5101\n",
            "Epoch 17/300\n",
            "5/5 [==============================] - 0s 26ms/step - loss: 1.1857 - acc: 0.5871 - val_loss: 1.3127 - val_acc: 0.5253\n",
            "Epoch 18/300\n",
            "5/5 [==============================] - 0s 25ms/step - loss: 1.0801 - acc: 0.6184 - val_loss: 1.2710 - val_acc: 0.5404\n",
            "Epoch 19/300\n",
            "5/5 [==============================] - 0s 28ms/step - loss: 1.0518 - acc: 0.6443 - val_loss: 1.2227 - val_acc: 0.5455\n",
            "Epoch 20/300\n",
            "5/5 [==============================] - 0s 26ms/step - loss: 1.0145 - acc: 0.6408 - val_loss: 1.1848 - val_acc: 0.5657\n",
            "Epoch 21/300\n",
            "5/5 [==============================] - 0s 34ms/step - loss: 0.9235 - acc: 0.6792 - val_loss: 1.1481 - val_acc: 0.5808\n",
            "Epoch 22/300\n",
            "5/5 [==============================] - 0s 25ms/step - loss: 0.9214 - acc: 0.6819 - val_loss: 1.0928 - val_acc: 0.5909\n",
            "Epoch 23/300\n",
            "5/5 [==============================] - 0s 27ms/step - loss: 0.8804 - acc: 0.7069 - val_loss: 1.0458 - val_acc: 0.6364\n",
            "Epoch 24/300\n",
            "5/5 [==============================] - 0s 25ms/step - loss: 0.8236 - acc: 0.7203 - val_loss: 1.0126 - val_acc: 0.6616\n",
            "Epoch 25/300\n",
            "5/5 [==============================] - 0s 22ms/step - loss: 0.8247 - acc: 0.7212 - val_loss: 1.0213 - val_acc: 0.6313\n",
            "Epoch 26/300\n",
            "5/5 [==============================] - 0s 26ms/step - loss: 0.7429 - acc: 0.7534 - val_loss: 1.0111 - val_acc: 0.6364\n",
            "Epoch 27/300\n",
            "5/5 [==============================] - 0s 21ms/step - loss: 0.7789 - acc: 0.7337 - val_loss: 1.0352 - val_acc: 0.6061\n",
            "Epoch 28/300\n",
            "5/5 [==============================] - 0s 20ms/step - loss: 0.6846 - acc: 0.7676 - val_loss: 1.0328 - val_acc: 0.6212\n",
            "Epoch 29/300\n",
            "5/5 [==============================] - 0s 25ms/step - loss: 0.6518 - acc: 0.7712 - val_loss: 1.0040 - val_acc: 0.6111\n",
            "Epoch 30/300\n",
            "5/5 [==============================] - 0s 25ms/step - loss: 0.6921 - acc: 0.7569 - val_loss: 1.0003 - val_acc: 0.6212\n",
            "Epoch 31/300\n",
            "5/5 [==============================] - 0s 22ms/step - loss: 0.6342 - acc: 0.7784 - val_loss: 0.9973 - val_acc: 0.6111\n",
            "Epoch 32/300\n",
            "5/5 [==============================] - 0s 21ms/step - loss: 0.6204 - acc: 0.7846 - val_loss: 0.9941 - val_acc: 0.6263\n",
            "Epoch 33/300\n",
            "5/5 [==============================] - 0s 22ms/step - loss: 0.6334 - acc: 0.7837 - val_loss: 0.9983 - val_acc: 0.6162\n",
            "Epoch 34/300\n",
            "5/5 [==============================] - 0s 21ms/step - loss: 0.6138 - acc: 0.7784 - val_loss: 0.9422 - val_acc: 0.6515\n",
            "Epoch 35/300\n",
            "5/5 [==============================] - 0s 28ms/step - loss: 0.5491 - acc: 0.8248 - val_loss: 0.8667 - val_acc: 0.7020\n",
            "Epoch 36/300\n",
            "5/5 [==============================] - 0s 26ms/step - loss: 0.5713 - acc: 0.7971 - val_loss: 0.8422 - val_acc: 0.7172\n",
            "Epoch 37/300\n",
            "5/5 [==============================] - 0s 22ms/step - loss: 0.5401 - acc: 0.8168 - val_loss: 0.8378 - val_acc: 0.7121\n",
            "Epoch 38/300\n",
            "5/5 [==============================] - 0s 28ms/step - loss: 0.6743 - acc: 0.7623 - val_loss: 0.8366 - val_acc: 0.7071\n",
            "Epoch 39/300\n",
            "5/5 [==============================] - 0s 26ms/step - loss: 0.5972 - acc: 0.7971 - val_loss: 0.8061 - val_acc: 0.7576\n",
            "Epoch 40/300\n",
            "5/5 [==============================] - 0s 26ms/step - loss: 0.5641 - acc: 0.7927 - val_loss: 0.7588 - val_acc: 0.7828\n",
            "Epoch 41/300\n",
            "5/5 [==============================] - 0s 21ms/step - loss: 0.5602 - acc: 0.8070 - val_loss: 0.7595 - val_acc: 0.7677\n",
            "Epoch 42/300\n",
            "5/5 [==============================] - 0s 26ms/step - loss: 0.5157 - acc: 0.8195 - val_loss: 0.7820 - val_acc: 0.7727\n",
            "Epoch 43/300\n",
            "5/5 [==============================] - 0s 25ms/step - loss: 0.5323 - acc: 0.8123 - val_loss: 0.7745 - val_acc: 0.7727\n",
            "Epoch 44/300\n",
            "5/5 [==============================] - 0s 22ms/step - loss: 0.5490 - acc: 0.8061 - val_loss: 0.7663 - val_acc: 0.7677\n",
            "Epoch 45/300\n",
            "5/5 [==============================] - 0s 25ms/step - loss: 0.5215 - acc: 0.8329 - val_loss: 0.7723 - val_acc: 0.7576\n",
            "Epoch 46/300\n",
            "5/5 [==============================] - 0s 24ms/step - loss: 0.5340 - acc: 0.8159 - val_loss: 0.7901 - val_acc: 0.7374\n",
            "Epoch 47/300\n",
            "5/5 [==============================] - 0s 21ms/step - loss: 0.5156 - acc: 0.8320 - val_loss: 0.7758 - val_acc: 0.7525\n",
            "Epoch 48/300\n",
            "5/5 [==============================] - 0s 31ms/step - loss: 0.5318 - acc: 0.8088 - val_loss: 0.7256 - val_acc: 0.8081\n",
            "Epoch 49/300\n",
            "5/5 [==============================] - 0s 21ms/step - loss: 0.4758 - acc: 0.8177 - val_loss: 0.7239 - val_acc: 0.8030\n",
            "Epoch 50/300\n",
            "5/5 [==============================] - 0s 22ms/step - loss: 0.4849 - acc: 0.8239 - val_loss: 0.7475 - val_acc: 0.7879\n",
            "Epoch 51/300\n",
            "5/5 [==============================] - 0s 21ms/step - loss: 0.4871 - acc: 0.8356 - val_loss: 0.8185 - val_acc: 0.7525\n",
            "Epoch 52/300\n",
            "5/5 [==============================] - 0s 23ms/step - loss: 0.4698 - acc: 0.8320 - val_loss: 0.7959 - val_acc: 0.7727\n",
            "Epoch 53/300\n",
            "5/5 [==============================] - 0s 21ms/step - loss: 0.4888 - acc: 0.8275 - val_loss: 0.7332 - val_acc: 0.7879\n",
            "Epoch 54/300\n",
            "5/5 [==============================] - 0s 21ms/step - loss: 0.5428 - acc: 0.8097 - val_loss: 0.7199 - val_acc: 0.8030\n",
            "Epoch 55/300\n",
            "5/5 [==============================] - 0s 23ms/step - loss: 0.4733 - acc: 0.8374 - val_loss: 0.7507 - val_acc: 0.7929\n",
            "Epoch 56/300\n",
            "5/5 [==============================] - 0s 21ms/step - loss: 0.3987 - acc: 0.8588 - val_loss: 0.7846 - val_acc: 0.7677\n",
            "Epoch 57/300\n",
            "5/5 [==============================] - 0s 24ms/step - loss: 0.5218 - acc: 0.8266 - val_loss: 0.7566 - val_acc: 0.7828\n",
            "Epoch 58/300\n",
            "5/5 [==============================] - 0s 22ms/step - loss: 0.4469 - acc: 0.8365 - val_loss: 0.7294 - val_acc: 0.7828\n",
            "Epoch 59/300\n",
            "5/5 [==============================] - 0s 22ms/step - loss: 0.4588 - acc: 0.8347 - val_loss: 0.7378 - val_acc: 0.7879\n",
            "Epoch 60/300\n",
            "5/5 [==============================] - 0s 22ms/step - loss: 0.4735 - acc: 0.8320 - val_loss: 0.7478 - val_acc: 0.7626\n",
            "Epoch 61/300\n",
            "5/5 [==============================] - 0s 22ms/step - loss: 0.4495 - acc: 0.8454 - val_loss: 0.7378 - val_acc: 0.7828\n",
            "Epoch 62/300\n",
            "5/5 [==============================] - 0s 22ms/step - loss: 0.4053 - acc: 0.8579 - val_loss: 0.7426 - val_acc: 0.7828\n",
            "Epoch 63/300\n",
            "5/5 [==============================] - 0s 25ms/step - loss: 0.4655 - acc: 0.8463 - val_loss: 0.7237 - val_acc: 0.7929\n",
            "Epoch 64/300\n",
            "5/5 [==============================] - 0s 23ms/step - loss: 0.4671 - acc: 0.8409 - val_loss: 0.7179 - val_acc: 0.7879\n",
            "Epoch 65/300\n",
            "5/5 [==============================] - 0s 21ms/step - loss: 0.4791 - acc: 0.8266 - val_loss: 0.7174 - val_acc: 0.7879\n",
            "Epoch 66/300\n",
            "5/5 [==============================] - 0s 19ms/step - loss: 0.4566 - acc: 0.8391 - val_loss: 0.7459 - val_acc: 0.7929\n",
            "Epoch 67/300\n",
            "5/5 [==============================] - 0s 23ms/step - loss: 0.4915 - acc: 0.8195 - val_loss: 0.7564 - val_acc: 0.7879\n",
            "Epoch 68/300\n",
            "5/5 [==============================] - 0s 19ms/step - loss: 0.4386 - acc: 0.8615 - val_loss: 0.7408 - val_acc: 0.8030\n",
            "Epoch 69/300\n",
            "5/5 [==============================] - 0s 25ms/step - loss: 0.4255 - acc: 0.8597 - val_loss: 0.7617 - val_acc: 0.7980\n",
            "Epoch 70/300\n",
            "5/5 [==============================] - 0s 29ms/step - loss: 0.4349 - acc: 0.8561 - val_loss: 0.7585 - val_acc: 0.7929\n",
            "Epoch 71/300\n",
            "5/5 [==============================] - 0s 30ms/step - loss: 0.4117 - acc: 0.8534 - val_loss: 0.7499 - val_acc: 0.7929\n",
            "Epoch 72/300\n",
            "5/5 [==============================] - 0s 28ms/step - loss: 0.4652 - acc: 0.8356 - val_loss: 0.7468 - val_acc: 0.7879\n",
            "Epoch 73/300\n",
            "5/5 [==============================] - 0s 27ms/step - loss: 0.4433 - acc: 0.8499 - val_loss: 0.7802 - val_acc: 0.7424\n",
            "Epoch 74/300\n",
            "5/5 [==============================] - 0s 23ms/step - loss: 0.4113 - acc: 0.8517 - val_loss: 0.8266 - val_acc: 0.7323\n",
            "Epoch 75/300\n",
            "5/5 [==============================] - 0s 28ms/step - loss: 0.4326 - acc: 0.8633 - val_loss: 0.8552 - val_acc: 0.7374\n",
            "Epoch 76/300\n",
            "5/5 [==============================] - 0s 27ms/step - loss: 0.4324 - acc: 0.8490 - val_loss: 0.8099 - val_acc: 0.7475\n",
            "Epoch 77/300\n",
            "5/5 [==============================] - 0s 30ms/step - loss: 0.4559 - acc: 0.8481 - val_loss: 0.7335 - val_acc: 0.7879\n",
            "Epoch 78/300\n",
            "5/5 [==============================] - 0s 28ms/step - loss: 0.3872 - acc: 0.8677 - val_loss: 0.7443 - val_acc: 0.7828\n",
            "Epoch 79/300\n",
            "5/5 [==============================] - 0s 25ms/step - loss: 0.4294 - acc: 0.8561 - val_loss: 0.7526 - val_acc: 0.7879\n",
            "Epoch 80/300\n",
            "5/5 [==============================] - 0s 31ms/step - loss: 0.4199 - acc: 0.8525 - val_loss: 0.8176 - val_acc: 0.7475\n",
            "Epoch 81/300\n",
            "5/5 [==============================] - 0s 33ms/step - loss: 0.4572 - acc: 0.8284 - val_loss: 0.8279 - val_acc: 0.7424\n",
            "Epoch 82/300\n",
            "5/5 [==============================] - 0s 34ms/step - loss: 0.4311 - acc: 0.8579 - val_loss: 0.7846 - val_acc: 0.7727\n",
            "Epoch 83/300\n",
            "5/5 [==============================] - 0s 33ms/step - loss: 0.4535 - acc: 0.8445 - val_loss: 0.7874 - val_acc: 0.7879\n",
            "Epoch 84/300\n",
            "5/5 [==============================] - 0s 31ms/step - loss: 0.4280 - acc: 0.8508 - val_loss: 0.7838 - val_acc: 0.7475\n",
            "Epoch 85/300\n",
            "5/5 [==============================] - 0s 32ms/step - loss: 0.4130 - acc: 0.8615 - val_loss: 0.7877 - val_acc: 0.7525\n",
            "Epoch 86/300\n",
            "5/5 [==============================] - 0s 34ms/step - loss: 0.4130 - acc: 0.8579 - val_loss: 0.7797 - val_acc: 0.7727\n",
            "Epoch 87/300\n",
            "5/5 [==============================] - 0s 32ms/step - loss: 0.4141 - acc: 0.8570 - val_loss: 0.8045 - val_acc: 0.7879\n",
            "Epoch 88/300\n",
            "5/5 [==============================] - 0s 31ms/step - loss: 0.3756 - acc: 0.8722 - val_loss: 0.8258 - val_acc: 0.7727\n",
            "Epoch 89/300\n",
            "5/5 [==============================] - 0s 31ms/step - loss: 0.3703 - acc: 0.8695 - val_loss: 0.8267 - val_acc: 0.7525\n",
            "Epoch 90/300\n",
            "5/5 [==============================] - 0s 30ms/step - loss: 0.4170 - acc: 0.8624 - val_loss: 0.8371 - val_acc: 0.7323\n",
            "Epoch 91/300\n",
            "5/5 [==============================] - 0s 32ms/step - loss: 0.4212 - acc: 0.8561 - val_loss: 0.8339 - val_acc: 0.7424\n",
            "Epoch 92/300\n",
            "5/5 [==============================] - 0s 37ms/step - loss: 0.4074 - acc: 0.8517 - val_loss: 0.8352 - val_acc: 0.7323\n",
            "Epoch 93/300\n",
            "5/5 [==============================] - 0s 38ms/step - loss: 0.4007 - acc: 0.8508 - val_loss: 0.8556 - val_acc: 0.7374\n",
            "Epoch 94/300\n",
            "5/5 [==============================] - 0s 38ms/step - loss: 0.3650 - acc: 0.8722 - val_loss: 0.8761 - val_acc: 0.7525\n",
            "Epoch 95/300\n",
            "5/5 [==============================] - 0s 29ms/step - loss: 0.4194 - acc: 0.8543 - val_loss: 0.8911 - val_acc: 0.7424\n",
            "Epoch 96/300\n",
            "5/5 [==============================] - 0s 29ms/step - loss: 0.4086 - acc: 0.8668 - val_loss: 0.8971 - val_acc: 0.7172\n",
            "Epoch 97/300\n",
            "5/5 [==============================] - 0s 27ms/step - loss: 0.4360 - acc: 0.8534 - val_loss: 0.8786 - val_acc: 0.7323\n",
            "Epoch 98/300\n",
            "5/5 [==============================] - 0s 33ms/step - loss: 0.3732 - acc: 0.8722 - val_loss: 0.8911 - val_acc: 0.7475\n"
          ]
        }
      ],
      "source": [
        "history = run_experiment(baseline_model, x_train, y_train)"
      ]
    },
    {
      "cell_type": "markdown",
      "metadata": {
        "id": "8Qm6LRo7e8kp"
      },
      "source": [
        "Let's plot the learning curves."
      ]
    },
    {
      "cell_type": "code",
      "execution_count": null,
      "metadata": {
        "id": "xe-T_8zIe8kp",
        "outputId": "b3d1fa28-1bac-4b82-8a7c-efffff0666ee",
        "colab": {
          "base_uri": "https://localhost:8080/",
          "height": 335
        }
      },
      "outputs": [
        {
          "output_type": "display_data",
          "data": {
            "text/plain": [
              "<Figure size 1080x360 with 2 Axes>"
            ],
            "image/png": "[encoded data removed]"
          },
          "metadata": {
            "needs_background": "light"
          }
        }
      ],
      "source": [
        "display_learning_curves(history)"
      ]
    },
    {
      "cell_type": "markdown",
      "metadata": {
        "id": "DTZpiKeue8kp"
      },
      "source": [
        "Now we evaluate the baseline model on the test data split."
      ]
    },
    {
      "cell_type": "code",
      "execution_count": null,
      "metadata": {
        "id": "0WXvyGYOe8kp",
        "outputId": "95cd70f9-9c97-47db-db22-7cd8f13baee1",
        "colab": {
          "base_uri": "https://localhost:8080/"
        }
      },
      "outputs": [
        {
          "output_type": "stream",
          "name": "stdout",
          "text": [
            "Test accuracy: 72.61%\n"
          ]
        }
      ],
      "source": [
        "_, test_accuracy = baseline_model.evaluate(x=x_test, y=y_test, verbose=0)\n",
        "print(f\"Test accuracy: {round(test_accuracy * 100, 2)}%\")"
      ]
    },
    {
      "cell_type": "markdown",
      "metadata": {
        "id": "KC6UEds0e8kp"
      },
      "source": [
        "### Examine the baseline model predictions\n",
        "\n",
        "Let's create new data instances by randomly generating binary word vectors with respect to\n",
        "the word presence probabilities."
      ]
    },
    {
      "cell_type": "code",
      "execution_count": null,
      "metadata": {
        "id": "ysE0SYNke8kp"
      },
      "outputs": [],
      "source": [
        "\n",
        "def generate_random_instances(num_instances):\n",
        "    token_probability = x_train.mean(axis=0)\n",
        "    instances = []\n",
        "    for _ in range(num_instances):\n",
        "        probabilities = np.random.uniform(size=len(token_probability))\n",
        "        instance = (probabilities <= token_probability).astype(int)\n",
        "        instances.append(instance)\n",
        "\n",
        "    return np.array(instances)\n",
        "\n",
        "\n",
        "def display_class_probabilities(probabilities):\n",
        "    for instance_idx, probs in enumerate(probabilities):\n",
        "        print(f\"Instance {instance_idx + 1}:\")\n",
        "        for class_idx, prob in enumerate(probs):\n",
        "            print(f\"- {class_values[class_idx]}: {round(prob * 100, 2)}%\")\n"
      ]
    },
    {
      "cell_type": "markdown",
      "metadata": {
        "id": "npiL7ps7e8kp"
      },
      "source": [
        "Now we show the baseline model predictions given these randomly generated instances."
      ]
    },
    {
      "cell_type": "code",
      "execution_count": null,
      "metadata": {
        "id": "ApFZut_de8kp",
        "outputId": "0855b5ec-a874-4b3b-ee51-440c2db3285e",
        "colab": {
          "base_uri": "https://localhost:8080/"
        }
      },
      "outputs": [
        {
          "output_type": "stream",
          "name": "stdout",
          "text": [
            "1/1 [==============================] - 1s 507ms/step\n",
            "Instance 1:\n",
            "- Case_Based: 55.17%\n",
            "- Genetic_Algorithms: 28.71%\n",
            "- Neural_Networks: 4.59%\n",
            "- Probabilistic_Methods: 1.35%\n",
            "- Reinforcement_Learning: 2.79%\n",
            "- Rule_Learning: 0.86%\n",
            "- Theory: 6.52%\n",
            "Instance 2:\n",
            "- Case_Based: 0.97%\n",
            "- Genetic_Algorithms: 3.6%\n",
            "- Neural_Networks: 79.74%\n",
            "- Probabilistic_Methods: 5.1%\n",
            "- Reinforcement_Learning: 0.92%\n",
            "- Rule_Learning: 0.23%\n",
            "- Theory: 9.43%\n",
            "Instance 3:\n",
            "- Case_Based: 1.67%\n",
            "- Genetic_Algorithms: 11.05%\n",
            "- Neural_Networks: 75.78%\n",
            "- Probabilistic_Methods: 4.58%\n",
            "- Reinforcement_Learning: 3.39%\n",
            "- Rule_Learning: 0.76%\n",
            "- Theory: 2.78%\n",
            "Instance 4:\n",
            "- Case_Based: 3.99%\n",
            "- Genetic_Algorithms: 6.12%\n",
            "- Neural_Networks: 13.67%\n",
            "- Probabilistic_Methods: 7.91%\n",
            "- Reinforcement_Learning: 2.4%\n",
            "- Rule_Learning: 12.9%\n",
            "- Theory: 53.0%\n",
            "Instance 5:\n",
            "- Case_Based: 3.86%\n",
            "- Genetic_Algorithms: 4.2%\n",
            "- Neural_Networks: 13.86%\n",
            "- Probabilistic_Methods: 24.52%\n",
            "- Reinforcement_Learning: 0.97%\n",
            "- Rule_Learning: 10.67%\n",
            "- Theory: 41.92%\n",
            "Instance 6:\n",
            "- Case_Based: 17.82%\n",
            "- Genetic_Algorithms: 6.39%\n",
            "- Neural_Networks: 34.16%\n",
            "- Probabilistic_Methods: 5.44%\n",
            "- Reinforcement_Learning: 3.24%\n",
            "- Rule_Learning: 11.22%\n",
            "- Theory: 21.74%\n",
            "Instance 7:\n",
            "- Case_Based: 2.28%\n",
            "- Genetic_Algorithms: 73.89%\n",
            "- Neural_Networks: 3.1%\n",
            "- Probabilistic_Methods: 1.54%\n",
            "- Reinforcement_Learning: 4.42%\n",
            "- Rule_Learning: 9.11%\n",
            "- Theory: 5.67%\n"
          ]
        }
      ],
      "source": [
        "new_instances = generate_random_instances(num_classes)\n",
        "logits = baseline_model.predict(new_instances)\n",
        "probabilities = keras.activations.softmax(tf.convert_to_tensor(logits)).numpy()\n",
        "display_class_probabilities(probabilities)"
      ]
    },
    {
      "cell_type": "markdown",
      "metadata": {
        "id": "hpv4tHbFe8kp"
      },
      "source": [
        "## Build a Graph Neural Network Model\n",
        "\n",
        "### Prepare the data for the graph model\n",
        "\n",
        "Preparing and loading the graphs data into the model for training is the most challenging\n",
        "part in GNN models, which is addressed in different ways by the specialised libraries.\n",
        "In this example, we show a simple approach for preparing and using graph data that is suitable\n",
        "if your dataset consists of a single graph that fits entirely in memory.\n",
        "\n",
        "The graph data is represented by the `graph_info` tuple, which consists of the following\n",
        "three elements:\n",
        "\n",
        "1. `node_features`: This is a `[num_nodes, num_features]` NumPy array that includes the\n",
        "node features. In this dataset, the nodes are the papers, and the `node_features` are the\n",
        "word-presence binary vectors of each paper.\n",
        "2. `edges`:  This is `[num_edges, num_edges]` NumPy array representing a sparse\n",
        "[adjacency matrix](https://en.wikipedia.org/wiki/Adjacency_matrix#:~:text=In%20graph%20theory%20and%20computer,with%20zeros%20on%20its%20diagonal.)\n",
        "of the links between the nodes. In this example, the links are the citations between the papers.\n",
        "3. `edge_weights` (optional): This is a `[num_edges]` NumPy array that includes the edge weights, which *quantify*\n",
        "the relationships between nodes in the graph. In this example, there are no weights for the paper citations."
      ]
    },
    {
      "cell_type": "code",
      "execution_count": null,
      "metadata": {
        "id": "T-sH-VPue8kp",
        "outputId": "0a1fcc9f-b343-4c5d-9e08-c7949dc36570",
        "colab": {
          "base_uri": "https://localhost:8080/"
        }
      },
      "outputs": [
        {
          "output_type": "stream",
          "name": "stdout",
          "text": [
            "Edges shape: (2, 5429)\n",
            "Nodes shape: (2708, 1433)\n"
          ]
        }
      ],
      "source": [
        "# Create an edges array (sparse adjacency matrix) of shape [2, num_edges].\n",
        "edges = citations[[\"source\", \"target\"]].to_numpy().T\n",
        "# Create an edge weights array of ones.\n",
        "edge_weights = tf.ones(shape=edges.shape[1])\n",
        "# Create a node features array of shape [num_nodes, num_features].\n",
        "node_features = tf.cast(\n",
        "    papers.sort_values(\"paper_id\")[feature_names].to_numpy(), dtype=tf.dtypes.float32\n",
        ")\n",
        "# Create graph info tuple with node_features, edges, and edge_weights.\n",
        "graph_info = (node_features, edges, edge_weights)\n",
        "\n",
        "print(\"Edges shape:\", edges.shape)\n",
        "print(\"Nodes shape:\", node_features.shape)"
      ]
    },
    {
      "cell_type": "markdown",
      "metadata": {
        "id": "q73TuudNe8kp"
      },
      "source": [
        "### Implement a graph convolution layer\n",
        "\n",
        "We implement a graph convolution module as a [Keras Layer](https://www.tensorflow.org/api_docs/python/tf/keras/layers/Layer?version=nightly).\n",
        "Our `GraphConvLayer` performs the following steps:\n",
        "\n",
        "1. **Prepare**: The input node representations are processed using a FFN to produce a *message*. You can simplify\n",
        "the processing by only applying linear transformation to the representations.\n",
        "2. **Aggregate**: The messages of the neighbours of each node are aggregated with\n",
        "respect to the `edge_weights` using a *permutation invariant* pooling operation, such as *sum*, *mean*, and *max*,\n",
        "to prepare a single aggregated message for each node. See, for example, [tf.math.unsorted_segment_sum](https://www.tensorflow.org/api_docs/python/tf/math/unsorted_segment_sum)\n",
        "APIs used to aggregate neighbour messages.\n",
        "3. **Update**: The `node_repesentations` and `aggregated_messages`—both of shape `[num_nodes, representation_dim]`—\n",
        "are combined and processed to produce the new state of the node representations (node embeddings).\n",
        "If `combination_type` is `gru`, the `node_repesentations` and `aggregated_messages` are stacked to create a sequence,\n",
        "then processed by a GRU layer. Otherwise, the `node_repesentations` and `aggregated_messages` are added\n",
        "or concatenated, then processed using a FFN.\n",
        "\n",
        "\n",
        "The technique implemented use ideas from [Graph Convolutional Networks](https://arxiv.org/abs/1609.02907),\n",
        "[GraphSage](https://arxiv.org/abs/1706.02216), [Graph Isomorphism Network](https://arxiv.org/abs/1810.00826),\n",
        "[Simple Graph Networks](https://arxiv.org/abs/1902.07153), and\n",
        "[Gated Graph Sequence Neural Networks](https://arxiv.org/abs/1511.05493).\n",
        "Two other key techniques that are not covered are [Graph Attention Networks](https://arxiv.org/abs/1710.10903)\n",
        "and [Message Passing Neural Networks](https://arxiv.org/abs/1704.01212)."
      ]
    },
    {
      "cell_type": "code",
      "execution_count": null,
      "metadata": {
        "id": "gSl8GZ7ge8kq"
      },
      "outputs": [],
      "source": [
        "\n",
        "class GraphConvLayer(layers.Layer):\n",
        "    def __init__(\n",
        "        self,\n",
        "        hidden_units,\n",
        "        dropout_rate=0.2,\n",
        "        aggregation_type=\"mean\",\n",
        "        combination_type=\"concat\",\n",
        "        normalize=False,\n",
        "        *args,\n",
        "        **kwargs,\n",
        "    ):\n",
        "        super().__init__(*args, **kwargs)\n",
        "\n",
        "        self.aggregation_type = aggregation_type\n",
        "        self.combination_type = combination_type\n",
        "        self.normalize = normalize\n",
        "\n",
        "        self.ffn_prepare = create_ffn(hidden_units, dropout_rate)\n",
        "        if self.combination_type == \"gated\":\n",
        "            self.update_fn = layers.GRU(\n",
        "                units=hidden_units,\n",
        "                activation=\"tanh\",\n",
        "                recurrent_activation=\"sigmoid\",\n",
        "                dropout=dropout_rate,\n",
        "                return_state=True,\n",
        "                recurrent_dropout=dropout_rate,\n",
        "            )\n",
        "        else:\n",
        "            self.update_fn = create_ffn(hidden_units, dropout_rate)\n",
        "\n",
        "    def prepare(self, node_repesentations, weights=None):\n",
        "        # node_repesentations shape is [num_edges, embedding_dim].\n",
        "        messages = self.ffn_prepare(node_repesentations)\n",
        "        if weights is not None:\n",
        "            messages = messages * tf.expand_dims(weights, -1)\n",
        "        return messages\n",
        "\n",
        "    def aggregate(self, node_indices, neighbour_messages, node_repesentations):\n",
        "        # node_indices shape is [num_edges].\n",
        "        # neighbour_messages shape: [num_edges, representation_dim].\n",
        "        # node_repesentations shape is [num_nodes, representation_dim].\n",
        "        num_nodes = node_repesentations.shape[0]\n",
        "        if self.aggregation_type == \"sum\":\n",
        "            aggregated_message = tf.math.unsorted_segment_sum(\n",
        "                neighbour_messages, node_indices, num_segments=num_nodes\n",
        "            )\n",
        "        elif self.aggregation_type == \"mean\":\n",
        "            aggregated_message = tf.math.unsorted_segment_mean(\n",
        "                neighbour_messages, node_indices, num_segments=num_nodes\n",
        "            )\n",
        "        elif self.aggregation_type == \"max\":\n",
        "            aggregated_message = tf.math.unsorted_segment_max(\n",
        "                neighbour_messages, node_indices, num_segments=num_nodes\n",
        "            )\n",
        "        else:\n",
        "            raise ValueError(f\"Invalid aggregation type: {self.aggregation_type}.\")\n",
        "\n",
        "        return aggregated_message\n",
        "\n",
        "    def update(self, node_repesentations, aggregated_messages):\n",
        "        # node_repesentations shape is [num_nodes, representation_dim].\n",
        "        # aggregated_messages shape is [num_nodes, representation_dim].\n",
        "        if self.combination_type == \"gru\":\n",
        "            # Create a sequence of two elements for the GRU layer.\n",
        "            h = tf.stack([node_repesentations, aggregated_messages], axis=1)\n",
        "        elif self.combination_type == \"concat\":\n",
        "            # Concatenate the node_repesentations and aggregated_messages.\n",
        "            h = tf.concat([node_repesentations, aggregated_messages], axis=1)\n",
        "        elif self.combination_type == \"add\":\n",
        "            # Add node_repesentations and aggregated_messages.\n",
        "            h = node_repesentations + aggregated_messages\n",
        "        else:\n",
        "            raise ValueError(f\"Invalid combination type: {self.combination_type}.\")\n",
        "\n",
        "        # Apply the processing function.\n",
        "        node_embeddings = self.update_fn(h)\n",
        "        if self.combination_type == \"gru\":\n",
        "            node_embeddings = tf.unstack(node_embeddings, axis=1)[-1]\n",
        "\n",
        "        if self.normalize:\n",
        "            node_embeddings = tf.nn.l2_normalize(node_embeddings, axis=-1)\n",
        "        return node_embeddings\n",
        "\n",
        "    def call(self, inputs):\n",
        "        \"\"\"Process the inputs to produce the node_embeddings.\n",
        "\n",
        "        inputs: a tuple of three elements: node_repesentations, edges, edge_weights.\n",
        "        Returns: node_embeddings of shape [num_nodes, representation_dim].\n",
        "        \"\"\"\n",
        "\n",
        "        node_repesentations, edges, edge_weights = inputs\n",
        "        # Get node_indices (source) and neighbour_indices (target) from edges.\n",
        "        node_indices, neighbour_indices = edges[0], edges[1]\n",
        "        # neighbour_repesentations shape is [num_edges, representation_dim].\n",
        "        neighbour_repesentations = tf.gather(node_repesentations, neighbour_indices)\n",
        "\n",
        "        # Prepare the messages of the neighbours.\n",
        "        neighbour_messages = self.prepare(neighbour_repesentations, edge_weights)\n",
        "        # Aggregate the neighbour messages.\n",
        "        aggregated_messages = self.aggregate(\n",
        "            node_indices, neighbour_messages, node_repesentations\n",
        "        )\n",
        "        # Update the node embedding with the neighbour messages.\n",
        "        return self.update(node_repesentations, aggregated_messages)\n"
      ]
    },
    {
      "cell_type": "markdown",
      "metadata": {
        "id": "nM1T8wKXe8kq"
      },
      "source": [
        "### Implement a graph neural network node classifier\n",
        "\n",
        "The GNN classification model follows the [Design Space for Graph Neural Networks](https://arxiv.org/abs/2011.08843) approach,\n",
        "as follows:\n",
        "\n",
        "1. Apply preprocessing using FFN to the node features to generate initial node representations.\n",
        "2. Apply one or more graph convolutional layer, with skip connections,  to the node representation\n",
        "to produce node embeddings.\n",
        "3. Apply post-processing using FFN to the node embeddings to generat the final node embeddings.\n",
        "4. Feed the node embeddings in a Softmax layer to predict the node class.\n",
        "\n",
        "Each graph convolutional layer added captures information from a further level of neighbours.\n",
        "However, adding many graph convolutional layer can cause oversmoothing, where the model\n",
        "produces similar embeddings for all the nodes.\n",
        "\n",
        "Note that the `graph_info` passed to the constructor of the Keras model, and used as a *property*\n",
        "of the Keras model object, rather than input data for training or prediction.\n",
        "The model will accept a **batch** of `node_indices`, which are used to lookup the\n",
        "node features and neighbours from the `graph_info`."
      ]
    },
    {
      "cell_type": "code",
      "execution_count": null,
      "metadata": {
        "id": "PrjloqpEe8kq"
      },
      "outputs": [],
      "source": [
        "\n",
        "class GNNNodeClassifier(tf.keras.Model):\n",
        "    def __init__(\n",
        "        self,\n",
        "        graph_info,\n",
        "        num_classes,\n",
        "        hidden_units,\n",
        "        aggregation_type=\"sum\",\n",
        "        combination_type=\"concat\",\n",
        "        dropout_rate=0.2,\n",
        "        normalize=True,\n",
        "        *args,\n",
        "        **kwargs,\n",
        "    ):\n",
        "        super().__init__(*args, **kwargs)\n",
        "\n",
        "        # Unpack graph_info to three elements: node_features, edges, and edge_weight.\n",
        "        node_features, edges, edge_weights = graph_info\n",
        "        self.node_features = node_features\n",
        "        self.edges = edges\n",
        "        self.edge_weights = edge_weights\n",
        "        # Set edge_weights to ones if not provided.\n",
        "        if self.edge_weights is None:\n",
        "            self.edge_weights = tf.ones(shape=edges.shape[1])\n",
        "        # Scale edge_weights to sum to 1.\n",
        "        self.edge_weights = self.edge_weights / tf.math.reduce_sum(self.edge_weights)\n",
        "\n",
        "        # Create a process layer.\n",
        "        self.preprocess = create_ffn(hidden_units, dropout_rate, name=\"preprocess\")\n",
        "        # Create the first GraphConv layer.\n",
        "        self.conv1 = GraphConvLayer(\n",
        "            hidden_units,\n",
        "            dropout_rate,\n",
        "            aggregation_type,\n",
        "            combination_type,\n",
        "            normalize,\n",
        "            name=\"graph_conv1\",\n",
        "        )\n",
        "        # Create the second GraphConv layer.\n",
        "        self.conv2 = GraphConvLayer(\n",
        "            hidden_units,\n",
        "            dropout_rate,\n",
        "            aggregation_type,\n",
        "            combination_type,\n",
        "            normalize,\n",
        "            name=\"graph_conv2\",\n",
        "        )\n",
        "        # Create a postprocess layer.\n",
        "        self.postprocess = create_ffn(hidden_units, dropout_rate, name=\"postprocess\")\n",
        "        # Create a compute logits layer.\n",
        "        self.compute_logits = layers.Dense(units=num_classes, name=\"logits\")\n",
        "\n",
        "    def call(self, input_node_indices):\n",
        "        # Preprocess the node_features to produce node representations.\n",
        "        x = self.preprocess(self.node_features)\n",
        "        # Apply the first graph conv layer.\n",
        "        x1 = self.conv1((x, self.edges, self.edge_weights))\n",
        "        # Skip connection.\n",
        "        x = x1 + x\n",
        "        # Apply the second graph conv layer.\n",
        "        x2 = self.conv2((x, self.edges, self.edge_weights))\n",
        "        # Skip connection.\n",
        "        x = x2 + x\n",
        "        # Postprocess node embedding.\n",
        "        x = self.postprocess(x)\n",
        "        # Fetch node embeddings for the input node_indices.\n",
        "        node_embeddings = tf.gather(x, input_node_indices)\n",
        "        # Compute logits\n",
        "        return self.compute_logits(node_embeddings)\n"
      ]
    },
    {
      "cell_type": "markdown",
      "metadata": {
        "id": "HwUMoSBne8kq"
      },
      "source": [
        "Let's test instantiating and calling the GNN model.\n",
        "Notice that if you provide `N` node indices, the output will be a tensor of shape `[N, num_classes]`,\n",
        "regardless of the size of the graph."
      ]
    },
    {
      "cell_type": "code",
      "execution_count": null,
      "metadata": {
        "id": "hI8o-i83e8kq",
        "outputId": "63581b13-007d-41f0-e3fe-d6fd6e0bfee5",
        "colab": {
          "base_uri": "https://localhost:8080/"
        }
      },
      "outputs": [
        {
          "output_type": "stream",
          "name": "stdout",
          "text": [
            "GNN output shape: tf.Tensor(\n",
            "[[ 8.54232162e-03 -4.39860895e-02 -1.36895925e-02  1.95597038e-02\n",
            "   2.18454495e-01  9.48447883e-02  4.14424092e-02]\n",
            " [ 3.09403110e-02  1.29011367e-03 -5.35391420e-02 -1.30329996e-01\n",
            "  -1.82710841e-01 -1.02621883e-01 -1.90641731e-04]\n",
            " [-6.31264970e-03 -6.56100735e-02  5.06907701e-04 -3.31700295e-02\n",
            "   8.42255205e-02  6.98792562e-02  9.04670060e-02]], shape=(3, 7), dtype=float32)\n",
            "Model: \"gnn_model\"\n",
            "_________________________________________________________________\n",
            " Layer (type)                Output Shape              Param #   \n",
            "=================================================================\n",
            " preprocess (Sequential)     (2708, 32)                52804     \n",
            "                                                                 \n",
            " graph_conv1 (GraphConvLayer  multiple                 5888      \n",
            " )                                                               \n",
            "                                                                 \n",
            " graph_conv2 (GraphConvLayer  multiple                 5888      \n",
            " )                                                               \n",
            "                                                                 \n",
            " postprocess (Sequential)    (2708, 32)                2368      \n",
            "                                                                 \n",
            " logits (Dense)              multiple                  231       \n",
            "                                                                 \n",
            "=================================================================\n",
            "Total params: 67,179\n",
            "Trainable params: 63,481\n",
            "Non-trainable params: 3,698\n",
            "_________________________________________________________________\n"
          ]
        }
      ],
      "source": [
        "gnn_model = GNNNodeClassifier(\n",
        "    graph_info=graph_info,\n",
        "    num_classes=num_classes,\n",
        "    hidden_units=hidden_units,\n",
        "    dropout_rate=dropout_rate,\n",
        "    name=\"gnn_model\",\n",
        ")\n",
        "\n",
        "print(\"GNN output shape:\", gnn_model([1, 10, 100]))\n",
        "\n",
        "gnn_model.summary()"
      ]
    },
    {
      "cell_type": "markdown",
      "metadata": {
        "id": "B7c13ZHSe8kq"
      },
      "source": [
        "### Train the GNN model\n",
        "\n",
        "Note that we use the standard *supervised* cross-entropy loss to train the model.\n",
        "However, we can add another *self-supervised* loss term for the generated node embeddings\n",
        "that makes sure that neighbouring nodes in graph have similar representations, while faraway\n",
        "nodes have dissimilar representations."
      ]
    },
    {
      "cell_type": "code",
      "execution_count": null,
      "metadata": {
        "id": "dqy64TjRe8kq",
        "outputId": "cda8759a-2a37-476c-ae0e-608fcf7ed7f2",
        "colab": {
          "base_uri": "https://localhost:8080/"
        }
      },
      "outputs": [
        {
          "output_type": "stream",
          "name": "stdout",
          "text": [
            "Epoch 1/300\n",
            "5/5 [==============================] - 13s 249ms/step - loss: 2.2320 - acc: 0.1895 - val_loss: 1.8969 - val_acc: 0.2879\n",
            "Epoch 2/300\n",
            "5/5 [==============================] - 0s 22ms/step - loss: 1.9797 - acc: 0.2860 - val_loss: 1.8784 - val_acc: 0.2879\n",
            "Epoch 3/300\n",
            "5/5 [==============================] - 0s 25ms/step - loss: 1.8864 - acc: 0.3065 - val_loss: 1.8688 - val_acc: 0.2879\n",
            "Epoch 4/300\n",
            "5/5 [==============================] - 0s 21ms/step - loss: 1.8691 - acc: 0.3056 - val_loss: 1.8639 - val_acc: 0.2879\n",
            "Epoch 5/300\n",
            "5/5 [==============================] - 0s 27ms/step - loss: 1.8652 - acc: 0.2967 - val_loss: 1.8626 - val_acc: 0.2980\n",
            "Epoch 6/300\n",
            "5/5 [==============================] - 0s 26ms/step - loss: 1.8520 - acc: 0.3074 - val_loss: 1.8591 - val_acc: 0.2879\n",
            "Epoch 7/300\n",
            "5/5 [==============================] - 0s 24ms/step - loss: 1.8223 - acc: 0.3083 - val_loss: 1.8531 - val_acc: 0.2879\n",
            "Epoch 8/300\n",
            "5/5 [==============================] - 0s 25ms/step - loss: 1.8067 - acc: 0.3137 - val_loss: 1.8437 - val_acc: 0.2879\n",
            "Epoch 9/300\n",
            "5/5 [==============================] - 0s 21ms/step - loss: 1.7914 - acc: 0.3190 - val_loss: 1.8352 - val_acc: 0.2980\n",
            "Epoch 10/300\n",
            "5/5 [==============================] - 0s 27ms/step - loss: 1.7659 - acc: 0.3164 - val_loss: 1.8292 - val_acc: 0.3838\n",
            "Epoch 11/300\n",
            "5/5 [==============================] - 0s 21ms/step - loss: 1.7452 - acc: 0.3351 - val_loss: 1.8194 - val_acc: 0.3788\n",
            "Epoch 12/300\n",
            "5/5 [==============================] - 0s 20ms/step - loss: 1.7299 - acc: 0.3575 - val_loss: 1.7966 - val_acc: 0.3788\n",
            "Epoch 13/300\n",
            "5/5 [==============================] - 0s 27ms/step - loss: 1.7166 - acc: 0.3503 - val_loss: 1.7655 - val_acc: 0.3889\n",
            "Epoch 14/300\n",
            "5/5 [==============================] - 0s 33ms/step - loss: 1.6544 - acc: 0.3700 - val_loss: 1.7496 - val_acc: 0.3939\n",
            "Epoch 15/300\n",
            "5/5 [==============================] - 0s 22ms/step - loss: 1.6626 - acc: 0.3762 - val_loss: 1.7245 - val_acc: 0.3788\n",
            "Epoch 16/300\n",
            "5/5 [==============================] - 0s 24ms/step - loss: 1.6273 - acc: 0.3780 - val_loss: 1.7025 - val_acc: 0.3939\n",
            "Epoch 17/300\n",
            "5/5 [==============================] - 0s 26ms/step - loss: 1.5888 - acc: 0.4021 - val_loss: 1.7031 - val_acc: 0.3788\n",
            "Epoch 18/300\n",
            "5/5 [==============================] - 0s 21ms/step - loss: 1.5475 - acc: 0.4120 - val_loss: 1.6790 - val_acc: 0.3838\n",
            "Epoch 19/300\n",
            "5/5 [==============================] - 0s 32ms/step - loss: 1.5063 - acc: 0.4352 - val_loss: 1.6101 - val_acc: 0.4192\n",
            "Epoch 20/300\n",
            "5/5 [==============================] - 0s 26ms/step - loss: 1.4837 - acc: 0.4495 - val_loss: 1.4640 - val_acc: 0.4697\n",
            "Epoch 21/300\n",
            "5/5 [==============================] - 0s 26ms/step - loss: 1.4485 - acc: 0.4718 - val_loss: 1.3654 - val_acc: 0.4949\n",
            "Epoch 22/300\n",
            "5/5 [==============================] - 0s 31ms/step - loss: 1.3947 - acc: 0.4835 - val_loss: 1.2995 - val_acc: 0.5253\n",
            "Epoch 23/300\n",
            "5/5 [==============================] - 0s 29ms/step - loss: 1.3715 - acc: 0.4835 - val_loss: 1.2767 - val_acc: 0.5455\n",
            "Epoch 24/300\n",
            "5/5 [==============================] - 0s 26ms/step - loss: 1.3363 - acc: 0.5022 - val_loss: 1.2950 - val_acc: 0.5657\n",
            "Epoch 25/300\n",
            "5/5 [==============================] - 0s 25ms/step - loss: 1.3237 - acc: 0.5112 - val_loss: 1.2505 - val_acc: 0.5606\n",
            "Epoch 26/300\n",
            "5/5 [==============================] - 0s 22ms/step - loss: 1.2630 - acc: 0.5273 - val_loss: 1.1959 - val_acc: 0.5505\n",
            "Epoch 27/300\n",
            "5/5 [==============================] - 0s 20ms/step - loss: 1.2841 - acc: 0.5290 - val_loss: 1.1735 - val_acc: 0.5606\n",
            "Epoch 28/300\n",
            "5/5 [==============================] - 0s 31ms/step - loss: 1.2312 - acc: 0.5621 - val_loss: 1.1637 - val_acc: 0.5909\n",
            "Epoch 29/300\n",
            "5/5 [==============================] - 0s 27ms/step - loss: 1.1648 - acc: 0.5800 - val_loss: 1.1501 - val_acc: 0.6162\n",
            "Epoch 30/300\n",
            "5/5 [==============================] - 0s 28ms/step - loss: 1.1696 - acc: 0.5809 - val_loss: 1.1195 - val_acc: 0.5960\n",
            "Epoch 31/300\n",
            "5/5 [==============================] - 0s 26ms/step - loss: 1.1522 - acc: 0.5889 - val_loss: 1.1819 - val_acc: 0.5808\n",
            "Epoch 32/300\n",
            "5/5 [==============================] - 0s 23ms/step - loss: 1.1424 - acc: 0.5862 - val_loss: 1.2977 - val_acc: 0.5505\n",
            "Epoch 33/300\n",
            "5/5 [==============================] - 0s 25ms/step - loss: 1.0880 - acc: 0.5952 - val_loss: 1.1375 - val_acc: 0.6010\n",
            "Epoch 34/300\n",
            "5/5 [==============================] - 0s 28ms/step - loss: 1.0668 - acc: 0.6068 - val_loss: 1.0750 - val_acc: 0.6263\n",
            "Epoch 35/300\n",
            "5/5 [==============================] - 0s 21ms/step - loss: 1.0833 - acc: 0.6130 - val_loss: 1.0404 - val_acc: 0.6263\n",
            "Epoch 36/300\n",
            "5/5 [==============================] - 0s 20ms/step - loss: 1.0452 - acc: 0.6247 - val_loss: 1.1379 - val_acc: 0.5758\n",
            "Epoch 37/300\n",
            "5/5 [==============================] - 0s 22ms/step - loss: 0.9784 - acc: 0.6631 - val_loss: 1.1043 - val_acc: 0.5808\n",
            "Epoch 38/300\n",
            "5/5 [==============================] - 0s 25ms/step - loss: 0.9830 - acc: 0.6399 - val_loss: 1.1073 - val_acc: 0.6111\n",
            "Epoch 39/300\n",
            "5/5 [==============================] - 0s 25ms/step - loss: 1.0042 - acc: 0.6256 - val_loss: 1.1909 - val_acc: 0.5606\n",
            "Epoch 40/300\n",
            "5/5 [==============================] - 0s 23ms/step - loss: 0.9371 - acc: 0.6577 - val_loss: 1.2642 - val_acc: 0.5455\n",
            "Epoch 41/300\n",
            "5/5 [==============================] - 0s 21ms/step - loss: 0.9350 - acc: 0.6613 - val_loss: 1.2702 - val_acc: 0.5354\n",
            "Epoch 42/300\n",
            "5/5 [==============================] - 0s 26ms/step - loss: 0.8958 - acc: 0.6738 - val_loss: 1.1351 - val_acc: 0.6162\n",
            "Epoch 43/300\n",
            "5/5 [==============================] - 0s 25ms/step - loss: 0.9323 - acc: 0.6613 - val_loss: 1.0371 - val_acc: 0.6162\n",
            "Epoch 44/300\n",
            "5/5 [==============================] - 0s 30ms/step - loss: 0.9427 - acc: 0.6542 - val_loss: 0.9532 - val_acc: 0.6616\n",
            "Epoch 45/300\n",
            "5/5 [==============================] - 0s 20ms/step - loss: 0.8752 - acc: 0.6747 - val_loss: 0.9461 - val_acc: 0.6364\n",
            "Epoch 46/300\n",
            "5/5 [==============================] - 0s 22ms/step - loss: 0.9096 - acc: 0.6890 - val_loss: 1.1854 - val_acc: 0.5859\n",
            "Epoch 47/300\n",
            "5/5 [==============================] - 0s 24ms/step - loss: 0.8327 - acc: 0.6917 - val_loss: 1.3136 - val_acc: 0.5253\n",
            "Epoch 48/300\n",
            "5/5 [==============================] - 0s 25ms/step - loss: 0.8498 - acc: 0.6997 - val_loss: 0.9990 - val_acc: 0.6313\n",
            "Epoch 49/300\n",
            "5/5 [==============================] - 0s 33ms/step - loss: 0.8161 - acc: 0.7096 - val_loss: 0.8987 - val_acc: 0.6768\n",
            "Epoch 50/300\n",
            "5/5 [==============================] - 0s 28ms/step - loss: 0.8344 - acc: 0.6971 - val_loss: 0.9269 - val_acc: 0.6869\n",
            "Epoch 51/300\n",
            "5/5 [==============================] - 0s 21ms/step - loss: 0.8415 - acc: 0.6953 - val_loss: 0.9192 - val_acc: 0.6869\n",
            "Epoch 52/300\n",
            "5/5 [==============================] - 0s 25ms/step - loss: 0.8060 - acc: 0.6997 - val_loss: 0.9559 - val_acc: 0.6414\n",
            "Epoch 53/300\n",
            "5/5 [==============================] - 0s 26ms/step - loss: 0.7537 - acc: 0.7310 - val_loss: 0.9655 - val_acc: 0.6717\n",
            "Epoch 54/300\n",
            "5/5 [==============================] - 0s 26ms/step - loss: 0.7829 - acc: 0.6935 - val_loss: 0.9680 - val_acc: 0.6768\n",
            "Epoch 55/300\n",
            "5/5 [==============================] - 0s 23ms/step - loss: 0.8109 - acc: 0.6962 - val_loss: 0.9616 - val_acc: 0.6768\n",
            "Epoch 56/300\n",
            "5/5 [==============================] - 0s 21ms/step - loss: 0.7463 - acc: 0.7274 - val_loss: 0.9074 - val_acc: 0.6768\n",
            "Epoch 57/300\n",
            "5/5 [==============================] - 0s 28ms/step - loss: 0.7238 - acc: 0.7364 - val_loss: 0.9684 - val_acc: 0.6364\n",
            "Epoch 58/300\n",
            "5/5 [==============================] - 0s 26ms/step - loss: 0.7326 - acc: 0.7391 - val_loss: 1.0056 - val_acc: 0.6566\n",
            "Epoch 59/300\n",
            "5/5 [==============================] - 0s 31ms/step - loss: 0.7117 - acc: 0.7462 - val_loss: 0.8646 - val_acc: 0.6919\n",
            "Epoch 60/300\n",
            "5/5 [==============================] - 0s 26ms/step - loss: 0.7261 - acc: 0.7319 - val_loss: 0.7912 - val_acc: 0.7121\n",
            "Epoch 61/300\n",
            "5/5 [==============================] - 0s 21ms/step - loss: 0.6803 - acc: 0.7525 - val_loss: 0.8513 - val_acc: 0.6818\n",
            "Epoch 62/300\n",
            "5/5 [==============================] - 0s 24ms/step - loss: 0.7050 - acc: 0.7525 - val_loss: 0.9327 - val_acc: 0.6717\n",
            "Epoch 63/300\n",
            "5/5 [==============================] - 0s 25ms/step - loss: 0.7720 - acc: 0.7131 - val_loss: 0.8951 - val_acc: 0.6818\n",
            "Epoch 64/300\n",
            "5/5 [==============================] - 0s 31ms/step - loss: 0.6699 - acc: 0.7569 - val_loss: 0.8569 - val_acc: 0.7172\n",
            "Epoch 65/300\n",
            "5/5 [==============================] - 0s 27ms/step - loss: 0.7129 - acc: 0.7408 - val_loss: 0.8659 - val_acc: 0.6970\n",
            "Epoch 66/300\n",
            "5/5 [==============================] - 0s 21ms/step - loss: 0.7026 - acc: 0.7417 - val_loss: 1.0737 - val_acc: 0.6667\n",
            "Epoch 67/300\n",
            "5/5 [==============================] - 0s 21ms/step - loss: 0.7074 - acc: 0.7462 - val_loss: 1.0422 - val_acc: 0.6515\n",
            "Epoch 68/300\n",
            "5/5 [==============================] - 0s 25ms/step - loss: 0.6917 - acc: 0.7471 - val_loss: 0.8757 - val_acc: 0.7020\n",
            "Epoch 69/300\n",
            "5/5 [==============================] - 0s 26ms/step - loss: 0.7380 - acc: 0.7310 - val_loss: 0.7911 - val_acc: 0.7222\n",
            "Epoch 70/300\n",
            "5/5 [==============================] - 0s 22ms/step - loss: 0.6456 - acc: 0.7668 - val_loss: 0.8186 - val_acc: 0.7020\n",
            "Epoch 71/300\n",
            "5/5 [==============================] - 0s 25ms/step - loss: 0.6950 - acc: 0.7525 - val_loss: 0.8192 - val_acc: 0.6970\n",
            "Epoch 72/300\n",
            "5/5 [==============================] - 0s 32ms/step - loss: 0.6640 - acc: 0.7462 - val_loss: 0.7991 - val_acc: 0.7273\n",
            "Epoch 73/300\n",
            "5/5 [==============================] - 0s 27ms/step - loss: 0.6669 - acc: 0.7453 - val_loss: 0.7665 - val_acc: 0.6970\n",
            "Epoch 74/300\n",
            "5/5 [==============================] - 0s 22ms/step - loss: 0.6495 - acc: 0.7498 - val_loss: 0.7446 - val_acc: 0.7121\n",
            "Epoch 75/300\n",
            "5/5 [==============================] - 0s 22ms/step - loss: 0.6659 - acc: 0.7489 - val_loss: 0.7513 - val_acc: 0.7121\n",
            "Epoch 76/300\n",
            "5/5 [==============================] - 0s 25ms/step - loss: 0.6599 - acc: 0.7534 - val_loss: 0.7668 - val_acc: 0.7071\n",
            "Epoch 77/300\n",
            "5/5 [==============================] - 0s 21ms/step - loss: 0.7004 - acc: 0.7435 - val_loss: 0.8133 - val_acc: 0.7172\n",
            "Epoch 78/300\n",
            "5/5 [==============================] - 0s 20ms/step - loss: 0.6509 - acc: 0.7587 - val_loss: 0.8289 - val_acc: 0.7273\n",
            "Epoch 79/300\n",
            "5/5 [==============================] - 0s 22ms/step - loss: 0.6638 - acc: 0.7399 - val_loss: 0.7657 - val_acc: 0.7273\n",
            "Epoch 80/300\n",
            "5/5 [==============================] - 0s 32ms/step - loss: 0.6364 - acc: 0.7596 - val_loss: 0.6827 - val_acc: 0.7727\n",
            "Epoch 81/300\n",
            "5/5 [==============================] - 0s 25ms/step - loss: 0.6191 - acc: 0.7748 - val_loss: 0.7274 - val_acc: 0.7323\n",
            "Epoch 82/300\n",
            "5/5 [==============================] - 0s 34ms/step - loss: 0.6441 - acc: 0.7408 - val_loss: 0.7689 - val_acc: 0.7273\n",
            "Epoch 83/300\n",
            "5/5 [==============================] - 0s 35ms/step - loss: 0.6146 - acc: 0.7694 - val_loss: 0.7766 - val_acc: 0.7424\n",
            "Epoch 84/300\n",
            "5/5 [==============================] - 0s 30ms/step - loss: 0.6192 - acc: 0.7802 - val_loss: 0.7476 - val_acc: 0.7172\n",
            "Epoch 85/300\n",
            "5/5 [==============================] - 0s 31ms/step - loss: 0.6449 - acc: 0.7435 - val_loss: 0.7235 - val_acc: 0.7424\n",
            "Epoch 86/300\n",
            "5/5 [==============================] - 0s 29ms/step - loss: 0.6233 - acc: 0.7605 - val_loss: 0.7762 - val_acc: 0.7222\n",
            "Epoch 87/300\n",
            "5/5 [==============================] - 0s 32ms/step - loss: 0.5743 - acc: 0.7980 - val_loss: 0.8954 - val_acc: 0.6717\n",
            "Epoch 88/300\n",
            "5/5 [==============================] - 0s 28ms/step - loss: 0.5515 - acc: 0.7954 - val_loss: 0.8379 - val_acc: 0.6970\n",
            "Epoch 89/300\n",
            "5/5 [==============================] - 0s 31ms/step - loss: 0.5542 - acc: 0.7998 - val_loss: 0.7396 - val_acc: 0.7424\n",
            "Epoch 90/300\n",
            "5/5 [==============================] - 0s 27ms/step - loss: 0.6168 - acc: 0.7784 - val_loss: 0.7265 - val_acc: 0.7576\n",
            "Epoch 91/300\n",
            "5/5 [==============================] - 0s 31ms/step - loss: 0.5736 - acc: 0.8097 - val_loss: 0.6767 - val_acc: 0.7677\n",
            "Epoch 92/300\n",
            "5/5 [==============================] - 0s 31ms/step - loss: 0.6078 - acc: 0.7855 - val_loss: 0.6839 - val_acc: 0.7576\n",
            "Epoch 93/300\n",
            "5/5 [==============================] - 0s 32ms/step - loss: 0.5819 - acc: 0.7837 - val_loss: 0.7444 - val_acc: 0.7525\n",
            "Epoch 94/300\n",
            "5/5 [==============================] - 0s 34ms/step - loss: 0.6036 - acc: 0.7757 - val_loss: 0.7567 - val_acc: 0.7424\n",
            "Epoch 95/300\n",
            "5/5 [==============================] - 0s 33ms/step - loss: 0.5826 - acc: 0.7766 - val_loss: 0.7032 - val_acc: 0.7222\n",
            "Epoch 96/300\n",
            "5/5 [==============================] - 0s 33ms/step - loss: 0.5769 - acc: 0.7855 - val_loss: 0.6891 - val_acc: 0.7576\n",
            "Epoch 97/300\n",
            "5/5 [==============================] - 0s 25ms/step - loss: 0.6101 - acc: 0.7569 - val_loss: 0.6890 - val_acc: 0.7576\n",
            "Epoch 98/300\n",
            "5/5 [==============================] - 0s 25ms/step - loss: 0.5747 - acc: 0.7739 - val_loss: 0.7415 - val_acc: 0.7222\n",
            "Epoch 99/300\n",
            "5/5 [==============================] - 0s 27ms/step - loss: 0.6023 - acc: 0.7775 - val_loss: 0.6793 - val_acc: 0.7727\n",
            "Epoch 100/300\n",
            "5/5 [==============================] - 0s 26ms/step - loss: 0.5980 - acc: 0.7846 - val_loss: 0.6696 - val_acc: 0.7677\n",
            "Epoch 101/300\n",
            "5/5 [==============================] - 0s 23ms/step - loss: 0.5725 - acc: 0.8025 - val_loss: 0.7018 - val_acc: 0.7677\n",
            "Epoch 102/300\n",
            "5/5 [==============================] - 0s 22ms/step - loss: 0.5458 - acc: 0.7971 - val_loss: 0.7590 - val_acc: 0.7677\n",
            "Epoch 103/300\n",
            "5/5 [==============================] - 0s 22ms/step - loss: 0.5769 - acc: 0.7864 - val_loss: 0.6963 - val_acc: 0.7677\n",
            "Epoch 104/300\n",
            "5/5 [==============================] - 0s 26ms/step - loss: 0.5483 - acc: 0.8034 - val_loss: 0.7451 - val_acc: 0.7323\n",
            "Epoch 105/300\n",
            "5/5 [==============================] - 0s 24ms/step - loss: 0.5331 - acc: 0.7989 - val_loss: 0.8318 - val_acc: 0.7323\n",
            "Epoch 106/300\n",
            "5/5 [==============================] - 0s 24ms/step - loss: 0.5630 - acc: 0.7971 - val_loss: 0.8003 - val_acc: 0.7475\n",
            "Epoch 107/300\n",
            "5/5 [==============================] - 0s 23ms/step - loss: 0.5381 - acc: 0.8043 - val_loss: 0.7170 - val_acc: 0.7677\n",
            "Epoch 108/300\n",
            "5/5 [==============================] - 0s 28ms/step - loss: 0.6023 - acc: 0.8034 - val_loss: 0.7206 - val_acc: 0.7828\n",
            "Epoch 109/300\n",
            "5/5 [==============================] - 0s 27ms/step - loss: 0.5354 - acc: 0.7980 - val_loss: 0.7463 - val_acc: 0.7727\n",
            "Epoch 110/300\n",
            "5/5 [==============================] - 0s 21ms/step - loss: 0.5143 - acc: 0.7989 - val_loss: 0.7668 - val_acc: 0.7626\n",
            "Epoch 111/300\n",
            "5/5 [==============================] - 0s 21ms/step - loss: 0.5397 - acc: 0.8177 - val_loss: 0.7370 - val_acc: 0.7677\n",
            "Epoch 112/300\n",
            "5/5 [==============================] - 0s 32ms/step - loss: 0.5380 - acc: 0.8016 - val_loss: 0.6726 - val_acc: 0.8081\n",
            "Epoch 113/300\n",
            "5/5 [==============================] - 0s 27ms/step - loss: 0.5213 - acc: 0.8186 - val_loss: 0.6363 - val_acc: 0.8232\n",
            "Epoch 114/300\n",
            "5/5 [==============================] - 0s 20ms/step - loss: 0.5259 - acc: 0.8123 - val_loss: 0.6363 - val_acc: 0.8081\n",
            "Epoch 115/300\n",
            "5/5 [==============================] - 0s 24ms/step - loss: 0.4980 - acc: 0.8061 - val_loss: 0.6350 - val_acc: 0.8131\n",
            "Epoch 116/300\n",
            "5/5 [==============================] - 0s 26ms/step - loss: 0.5301 - acc: 0.8070 - val_loss: 0.6579 - val_acc: 0.8081\n",
            "Epoch 117/300\n",
            "5/5 [==============================] - 0s 26ms/step - loss: 0.5225 - acc: 0.8150 - val_loss: 0.6693 - val_acc: 0.7929\n",
            "Epoch 118/300\n",
            "5/5 [==============================] - 0s 22ms/step - loss: 0.5335 - acc: 0.8052 - val_loss: 0.6508 - val_acc: 0.7778\n",
            "Epoch 119/300\n",
            "5/5 [==============================] - 0s 21ms/step - loss: 0.5715 - acc: 0.8016 - val_loss: 0.6858 - val_acc: 0.7828\n",
            "Epoch 120/300\n",
            "5/5 [==============================] - 0s 26ms/step - loss: 0.5040 - acc: 0.8159 - val_loss: 0.6782 - val_acc: 0.7778\n",
            "Epoch 121/300\n",
            "5/5 [==============================] - 0s 27ms/step - loss: 0.5807 - acc: 0.8097 - val_loss: 0.7156 - val_acc: 0.7828\n",
            "Epoch 122/300\n",
            "5/5 [==============================] - 0s 22ms/step - loss: 0.5431 - acc: 0.8168 - val_loss: 0.6917 - val_acc: 0.8081\n",
            "Epoch 123/300\n",
            "5/5 [==============================] - 0s 20ms/step - loss: 0.5477 - acc: 0.8222 - val_loss: 0.6642 - val_acc: 0.8182\n",
            "Epoch 124/300\n",
            "5/5 [==============================] - 0s 26ms/step - loss: 0.4467 - acc: 0.8409 - val_loss: 0.6523 - val_acc: 0.8283\n",
            "Epoch 125/300\n",
            "5/5 [==============================] - 0s 25ms/step - loss: 0.4954 - acc: 0.8266 - val_loss: 0.6335 - val_acc: 0.8182\n",
            "Epoch 126/300\n",
            "5/5 [==============================] - 0s 25ms/step - loss: 0.4559 - acc: 0.8293 - val_loss: 0.6323 - val_acc: 0.8283\n",
            "Epoch 127/300\n",
            "5/5 [==============================] - 0s 21ms/step - loss: 0.5793 - acc: 0.8052 - val_loss: 0.5586 - val_acc: 0.8081\n",
            "Epoch 128/300\n",
            "5/5 [==============================] - 0s 26ms/step - loss: 0.5206 - acc: 0.8266 - val_loss: 0.5522 - val_acc: 0.8283\n",
            "Epoch 129/300\n",
            "5/5 [==============================] - 0s 23ms/step - loss: 0.5707 - acc: 0.8195 - val_loss: 0.5586 - val_acc: 0.8232\n",
            "Epoch 130/300\n",
            "5/5 [==============================] - 0s 22ms/step - loss: 0.4570 - acc: 0.8490 - val_loss: 0.6166 - val_acc: 0.8131\n",
            "Epoch 131/300\n",
            "5/5 [==============================] - 0s 19ms/step - loss: 0.5256 - acc: 0.8159 - val_loss: 0.6434 - val_acc: 0.8030\n",
            "Epoch 132/300\n",
            "5/5 [==============================] - 0s 25ms/step - loss: 0.4839 - acc: 0.8463 - val_loss: 0.6034 - val_acc: 0.8232\n",
            "Epoch 133/300\n",
            "5/5 [==============================] - 0s 21ms/step - loss: 0.4931 - acc: 0.8329 - val_loss: 0.5806 - val_acc: 0.8182\n",
            "Epoch 134/300\n",
            "5/5 [==============================] - 0s 24ms/step - loss: 0.5329 - acc: 0.8213 - val_loss: 0.6098 - val_acc: 0.8030\n",
            "Epoch 135/300\n",
            "5/5 [==============================] - 0s 26ms/step - loss: 0.4910 - acc: 0.8400 - val_loss: 0.6133 - val_acc: 0.8232\n",
            "Epoch 136/300\n",
            "5/5 [==============================] - 0s 28ms/step - loss: 0.5111 - acc: 0.8472 - val_loss: 0.6028 - val_acc: 0.8232\n",
            "Epoch 137/300\n",
            "5/5 [==============================] - 0s 26ms/step - loss: 0.4444 - acc: 0.8552 - val_loss: 0.6096 - val_acc: 0.8182\n",
            "Epoch 138/300\n",
            "5/5 [==============================] - 0s 22ms/step - loss: 0.4876 - acc: 0.8293 - val_loss: 0.5975 - val_acc: 0.7929\n",
            "Epoch 139/300\n",
            "5/5 [==============================] - 0s 26ms/step - loss: 0.5280 - acc: 0.8239 - val_loss: 0.5611 - val_acc: 0.8131\n",
            "Epoch 140/300\n",
            "5/5 [==============================] - 0s 21ms/step - loss: 0.5127 - acc: 0.8266 - val_loss: 0.5609 - val_acc: 0.8182\n",
            "Epoch 141/300\n",
            "5/5 [==============================] - 0s 32ms/step - loss: 0.4690 - acc: 0.8391 - val_loss: 0.6103 - val_acc: 0.8384\n",
            "Epoch 142/300\n",
            "5/5 [==============================] - 0s 26ms/step - loss: 0.4802 - acc: 0.8490 - val_loss: 0.6406 - val_acc: 0.8384\n",
            "Epoch 143/300\n",
            "5/5 [==============================] - 0s 23ms/step - loss: 0.4556 - acc: 0.8543 - val_loss: 0.6524 - val_acc: 0.8333\n",
            "Epoch 144/300\n",
            "5/5 [==============================] - 0s 22ms/step - loss: 0.4361 - acc: 0.8561 - val_loss: 0.6638 - val_acc: 0.8232\n",
            "Epoch 145/300\n",
            "5/5 [==============================] - 0s 25ms/step - loss: 0.4903 - acc: 0.8382 - val_loss: 0.6424 - val_acc: 0.8333\n",
            "Epoch 146/300\n",
            "5/5 [==============================] - 0s 27ms/step - loss: 0.4392 - acc: 0.8552 - val_loss: 0.6352 - val_acc: 0.8182\n",
            "Epoch 147/300\n",
            "5/5 [==============================] - 0s 26ms/step - loss: 0.4300 - acc: 0.8552 - val_loss: 0.6611 - val_acc: 0.8030\n",
            "Epoch 148/300\n",
            "5/5 [==============================] - 0s 21ms/step - loss: 0.4901 - acc: 0.8418 - val_loss: 0.7038 - val_acc: 0.8131\n",
            "Epoch 149/300\n",
            "5/5 [==============================] - 0s 23ms/step - loss: 0.4115 - acc: 0.8749 - val_loss: 0.6948 - val_acc: 0.8131\n",
            "Epoch 150/300\n",
            "5/5 [==============================] - 0s 25ms/step - loss: 0.4654 - acc: 0.8517 - val_loss: 0.6557 - val_acc: 0.8232\n",
            "Epoch 151/300\n",
            "5/5 [==============================] - 0s 26ms/step - loss: 0.4580 - acc: 0.8642 - val_loss: 0.6650 - val_acc: 0.8232\n",
            "Epoch 152/300\n",
            "5/5 [==============================] - 0s 22ms/step - loss: 0.5041 - acc: 0.8400 - val_loss: 0.6356 - val_acc: 0.8283\n",
            "Epoch 153/300\n",
            "5/5 [==============================] - 0s 25ms/step - loss: 0.4410 - acc: 0.8490 - val_loss: 0.6343 - val_acc: 0.8283\n",
            "Epoch 154/300\n",
            "5/5 [==============================] - 0s 25ms/step - loss: 0.4362 - acc: 0.8588 - val_loss: 0.6626 - val_acc: 0.8232\n",
            "Epoch 155/300\n",
            "5/5 [==============================] - 0s 24ms/step - loss: 0.3972 - acc: 0.8597 - val_loss: 0.6523 - val_acc: 0.8283\n",
            "Epoch 156/300\n",
            "5/5 [==============================] - 0s 25ms/step - loss: 0.4811 - acc: 0.8517 - val_loss: 0.6135 - val_acc: 0.8283\n",
            "Epoch 157/300\n",
            "5/5 [==============================] - 0s 21ms/step - loss: 0.4060 - acc: 0.8686 - val_loss: 0.5935 - val_acc: 0.8333\n",
            "Epoch 158/300\n",
            "5/5 [==============================] - 0s 22ms/step - loss: 0.4615 - acc: 0.8517 - val_loss: 0.5872 - val_acc: 0.8384\n",
            "Epoch 159/300\n",
            "5/5 [==============================] - 0s 25ms/step - loss: 0.3991 - acc: 0.8722 - val_loss: 0.6133 - val_acc: 0.8333\n",
            "Epoch 160/300\n",
            "5/5 [==============================] - 0s 21ms/step - loss: 0.3841 - acc: 0.8749 - val_loss: 0.6808 - val_acc: 0.8232\n",
            "Epoch 161/300\n",
            "5/5 [==============================] - 0s 23ms/step - loss: 0.4554 - acc: 0.8508 - val_loss: 0.6619 - val_acc: 0.8283\n",
            "Epoch 162/300\n",
            "5/5 [==============================] - 0s 21ms/step - loss: 0.4107 - acc: 0.8749 - val_loss: 0.6483 - val_acc: 0.8283\n",
            "Epoch 163/300\n",
            "5/5 [==============================] - 0s 23ms/step - loss: 0.4387 - acc: 0.8660 - val_loss: 0.6303 - val_acc: 0.8182\n",
            "Epoch 164/300\n",
            "5/5 [==============================] - 0s 22ms/step - loss: 0.4598 - acc: 0.8561 - val_loss: 0.6154 - val_acc: 0.8081\n",
            "Epoch 165/300\n",
            "5/5 [==============================] - 0s 21ms/step - loss: 0.4247 - acc: 0.8624 - val_loss: 0.6163 - val_acc: 0.8283\n",
            "Epoch 166/300\n",
            "5/5 [==============================] - 0s 25ms/step - loss: 0.4235 - acc: 0.8677 - val_loss: 0.6367 - val_acc: 0.8384\n",
            "Epoch 167/300\n",
            "5/5 [==============================] - 0s 22ms/step - loss: 0.3823 - acc: 0.8963 - val_loss: 0.6342 - val_acc: 0.8333\n",
            "Epoch 168/300\n",
            "5/5 [==============================] - 0s 25ms/step - loss: 0.3969 - acc: 0.8704 - val_loss: 0.6351 - val_acc: 0.8232\n",
            "Epoch 169/300\n",
            "5/5 [==============================] - 0s 21ms/step - loss: 0.3906 - acc: 0.8767 - val_loss: 0.6813 - val_acc: 0.8131\n",
            "Epoch 170/300\n",
            "5/5 [==============================] - 0s 22ms/step - loss: 0.4239 - acc: 0.8668 - val_loss: 0.6833 - val_acc: 0.8081\n",
            "Epoch 171/300\n",
            "5/5 [==============================] - 0s 27ms/step - loss: 0.4085 - acc: 0.8597 - val_loss: 0.6613 - val_acc: 0.8182\n",
            "Epoch 172/300\n",
            "5/5 [==============================] - 0s 27ms/step - loss: 0.4278 - acc: 0.8686 - val_loss: 0.6457 - val_acc: 0.8283\n",
            "Epoch 173/300\n",
            "5/5 [==============================] - 0s 23ms/step - loss: 0.4260 - acc: 0.8481 - val_loss: 0.6222 - val_acc: 0.8333\n",
            "Epoch 174/300\n",
            "5/5 [==============================] - 0s 21ms/step - loss: 0.4302 - acc: 0.8704 - val_loss: 0.6189 - val_acc: 0.8283\n",
            "Epoch 175/300\n",
            "5/5 [==============================] - 0s 22ms/step - loss: 0.3805 - acc: 0.8731 - val_loss: 0.6448 - val_acc: 0.8333\n",
            "Epoch 176/300\n",
            "5/5 [==============================] - 0s 21ms/step - loss: 0.4426 - acc: 0.8633 - val_loss: 0.6419 - val_acc: 0.8333\n",
            "Epoch 177/300\n",
            "5/5 [==============================] - 0s 29ms/step - loss: 0.3684 - acc: 0.8776 - val_loss: 0.6776 - val_acc: 0.8434\n",
            "Epoch 178/300\n",
            "5/5 [==============================] - 0s 22ms/step - loss: 0.4059 - acc: 0.8668 - val_loss: 0.6660 - val_acc: 0.8384\n",
            "Epoch 179/300\n",
            "5/5 [==============================] - 0s 27ms/step - loss: 0.4062 - acc: 0.8668 - val_loss: 0.6215 - val_acc: 0.8232\n",
            "Epoch 180/300\n",
            "5/5 [==============================] - 0s 22ms/step - loss: 0.3752 - acc: 0.8892 - val_loss: 0.6164 - val_acc: 0.8283\n",
            "Epoch 181/300\n",
            "5/5 [==============================] - 0s 31ms/step - loss: 0.4394 - acc: 0.8633 - val_loss: 0.6489 - val_acc: 0.8333\n",
            "Epoch 182/300\n",
            "5/5 [==============================] - 0s 30ms/step - loss: 0.3617 - acc: 0.8919 - val_loss: 0.6864 - val_acc: 0.8283\n",
            "Epoch 183/300\n",
            "5/5 [==============================] - 0s 32ms/step - loss: 0.3799 - acc: 0.8767 - val_loss: 0.6791 - val_acc: 0.8232\n",
            "Epoch 184/300\n",
            "5/5 [==============================] - 0s 34ms/step - loss: 0.4173 - acc: 0.8677 - val_loss: 0.6145 - val_acc: 0.8283\n",
            "Epoch 185/300\n",
            "5/5 [==============================] - 0s 31ms/step - loss: 0.3800 - acc: 0.8704 - val_loss: 0.5881 - val_acc: 0.8232\n",
            "Epoch 186/300\n",
            "5/5 [==============================] - 0s 34ms/step - loss: 0.4283 - acc: 0.8633 - val_loss: 0.5969 - val_acc: 0.8283\n",
            "Epoch 187/300\n",
            "5/5 [==============================] - 0s 30ms/step - loss: 0.3387 - acc: 0.8981 - val_loss: 0.6379 - val_acc: 0.8232\n",
            "Epoch 188/300\n",
            "5/5 [==============================] - 0s 33ms/step - loss: 0.4081 - acc: 0.8811 - val_loss: 0.6391 - val_acc: 0.8283\n",
            "Epoch 189/300\n",
            "5/5 [==============================] - 0s 32ms/step - loss: 0.4277 - acc: 0.8660 - val_loss: 0.6229 - val_acc: 0.8232\n",
            "Epoch 190/300\n",
            "5/5 [==============================] - 0s 29ms/step - loss: 0.3676 - acc: 0.8776 - val_loss: 0.6188 - val_acc: 0.8283\n",
            "Epoch 191/300\n",
            "5/5 [==============================] - 0s 27ms/step - loss: 0.3941 - acc: 0.8838 - val_loss: 0.6134 - val_acc: 0.8434\n",
            "Epoch 192/300\n",
            "5/5 [==============================] - 0s 26ms/step - loss: 0.3784 - acc: 0.8820 - val_loss: 0.6215 - val_acc: 0.8283\n",
            "Epoch 193/300\n",
            "5/5 [==============================] - 0s 32ms/step - loss: 0.4061 - acc: 0.8668 - val_loss: 0.6290 - val_acc: 0.8232\n",
            "Epoch 194/300\n",
            "5/5 [==============================] - 0s 36ms/step - loss: 0.4003 - acc: 0.8758 - val_loss: 0.5947 - val_acc: 0.8182\n",
            "Epoch 195/300\n",
            "5/5 [==============================] - 0s 31ms/step - loss: 0.3751 - acc: 0.8847 - val_loss: 0.6113 - val_acc: 0.8384\n",
            "Epoch 196/300\n",
            "5/5 [==============================] - 0s 32ms/step - loss: 0.3932 - acc: 0.8740 - val_loss: 0.6387 - val_acc: 0.8182\n",
            "Epoch 197/300\n",
            "5/5 [==============================] - 0s 23ms/step - loss: 0.3850 - acc: 0.8758 - val_loss: 0.6692 - val_acc: 0.8182\n",
            "Epoch 198/300\n",
            "5/5 [==============================] - 0s 23ms/step - loss: 0.4018 - acc: 0.8740 - val_loss: 0.6815 - val_acc: 0.8182\n",
            "Epoch 199/300\n",
            "5/5 [==============================] - 0s 22ms/step - loss: 0.3561 - acc: 0.8874 - val_loss: 0.6649 - val_acc: 0.8283\n",
            "Epoch 200/300\n",
            "5/5 [==============================] - 0s 26ms/step - loss: 0.4172 - acc: 0.8740 - val_loss: 0.6301 - val_acc: 0.8384\n",
            "Epoch 201/300\n",
            "5/5 [==============================] - 0s 31ms/step - loss: 0.4124 - acc: 0.8686 - val_loss: 0.5858 - val_acc: 0.8535\n",
            "Epoch 202/300\n",
            "5/5 [==============================] - 0s 27ms/step - loss: 0.3577 - acc: 0.8954 - val_loss: 0.6003 - val_acc: 0.8535\n",
            "Epoch 203/300\n",
            "5/5 [==============================] - 0s 26ms/step - loss: 0.3971 - acc: 0.8668 - val_loss: 0.6057 - val_acc: 0.8535\n",
            "Epoch 204/300\n",
            "5/5 [==============================] - 0s 26ms/step - loss: 0.3899 - acc: 0.8722 - val_loss: 0.6101 - val_acc: 0.8283\n",
            "Epoch 205/300\n",
            "5/5 [==============================] - 0s 27ms/step - loss: 0.3526 - acc: 0.8892 - val_loss: 0.6107 - val_acc: 0.8283\n",
            "Epoch 206/300\n",
            "5/5 [==============================] - 0s 23ms/step - loss: 0.3964 - acc: 0.8829 - val_loss: 0.6122 - val_acc: 0.8232\n",
            "Epoch 207/300\n",
            "5/5 [==============================] - 0s 21ms/step - loss: 0.3713 - acc: 0.8758 - val_loss: 0.6054 - val_acc: 0.8384\n",
            "Epoch 208/300\n",
            "5/5 [==============================] - 0s 27ms/step - loss: 0.3575 - acc: 0.8874 - val_loss: 0.6228 - val_acc: 0.8283\n",
            "Epoch 209/300\n",
            "5/5 [==============================] - 0s 26ms/step - loss: 0.3688 - acc: 0.8722 - val_loss: 0.6572 - val_acc: 0.8131\n",
            "Epoch 210/300\n",
            "5/5 [==============================] - 0s 22ms/step - loss: 0.3657 - acc: 0.8919 - val_loss: 0.7219 - val_acc: 0.8232\n",
            "Epoch 211/300\n",
            "5/5 [==============================] - 0s 26ms/step - loss: 0.3652 - acc: 0.8829 - val_loss: 0.6821 - val_acc: 0.8232\n",
            "Epoch 212/300\n",
            "5/5 [==============================] - 0s 25ms/step - loss: 0.3473 - acc: 0.8785 - val_loss: 0.6303 - val_acc: 0.8232\n",
            "Epoch 213/300\n",
            "5/5 [==============================] - 0s 23ms/step - loss: 0.3689 - acc: 0.8803 - val_loss: 0.6540 - val_acc: 0.8232\n",
            "Epoch 214/300\n",
            "5/5 [==============================] - 0s 25ms/step - loss: 0.3477 - acc: 0.8883 - val_loss: 0.6669 - val_acc: 0.8283\n",
            "Epoch 215/300\n",
            "5/5 [==============================] - 0s 21ms/step - loss: 0.3696 - acc: 0.8749 - val_loss: 0.6516 - val_acc: 0.8333\n",
            "Epoch 216/300\n",
            "5/5 [==============================] - 0s 22ms/step - loss: 0.3914 - acc: 0.8919 - val_loss: 0.6120 - val_acc: 0.8434\n",
            "Epoch 217/300\n",
            "5/5 [==============================] - 0s 28ms/step - loss: 0.3858 - acc: 0.8704 - val_loss: 0.6039 - val_acc: 0.8586\n",
            "Epoch 218/300\n",
            "5/5 [==============================] - 0s 30ms/step - loss: 0.3825 - acc: 0.8919 - val_loss: 0.6039 - val_acc: 0.8636\n",
            "Epoch 219/300\n",
            "5/5 [==============================] - 0s 23ms/step - loss: 0.3715 - acc: 0.8794 - val_loss: 0.5983 - val_acc: 0.8434\n",
            "Epoch 220/300\n",
            "5/5 [==============================] - 0s 23ms/step - loss: 0.3266 - acc: 0.8990 - val_loss: 0.6200 - val_acc: 0.8535\n",
            "Epoch 221/300\n",
            "5/5 [==============================] - 0s 22ms/step - loss: 0.3589 - acc: 0.8874 - val_loss: 0.6350 - val_acc: 0.8434\n",
            "Epoch 222/300\n",
            "5/5 [==============================] - 0s 26ms/step - loss: 0.3817 - acc: 0.8883 - val_loss: 0.6740 - val_acc: 0.8283\n",
            "Epoch 223/300\n",
            "5/5 [==============================] - 0s 26ms/step - loss: 0.3697 - acc: 0.8820 - val_loss: 0.7308 - val_acc: 0.8333\n",
            "Epoch 224/300\n",
            "5/5 [==============================] - 0s 25ms/step - loss: 0.4154 - acc: 0.8695 - val_loss: 0.6865 - val_acc: 0.8283\n",
            "Epoch 225/300\n",
            "5/5 [==============================] - 0s 26ms/step - loss: 0.3562 - acc: 0.8945 - val_loss: 0.6569 - val_acc: 0.8283\n",
            "Epoch 226/300\n",
            "5/5 [==============================] - 0s 23ms/step - loss: 0.3836 - acc: 0.8803 - val_loss: 0.7004 - val_acc: 0.8081\n",
            "Epoch 227/300\n",
            "5/5 [==============================] - 0s 24ms/step - loss: 0.3550 - acc: 0.8847 - val_loss: 0.6786 - val_acc: 0.8283\n",
            "Epoch 228/300\n",
            "5/5 [==============================] - 0s 28ms/step - loss: 0.3296 - acc: 0.8981 - val_loss: 0.5994 - val_acc: 0.8333\n",
            "Epoch 229/300\n",
            "5/5 [==============================] - 0s 22ms/step - loss: 0.3744 - acc: 0.8892 - val_loss: 0.5934 - val_acc: 0.8384\n",
            "Epoch 230/300\n",
            "5/5 [==============================] - 0s 26ms/step - loss: 0.3737 - acc: 0.8704 - val_loss: 0.6079 - val_acc: 0.8283\n",
            "Epoch 231/300\n",
            "5/5 [==============================] - 0s 26ms/step - loss: 0.3537 - acc: 0.8937 - val_loss: 0.6201 - val_acc: 0.8333\n",
            "Epoch 232/300\n",
            "5/5 [==============================] - 0s 22ms/step - loss: 0.3474 - acc: 0.8901 - val_loss: 0.6340 - val_acc: 0.8384\n",
            "Epoch 233/300\n",
            "5/5 [==============================] - 0s 22ms/step - loss: 0.3499 - acc: 0.8829 - val_loss: 0.6778 - val_acc: 0.8333\n",
            "Epoch 234/300\n",
            "5/5 [==============================] - 0s 24ms/step - loss: 0.3442 - acc: 0.8811 - val_loss: 0.6658 - val_acc: 0.8384\n",
            "Epoch 235/300\n",
            "5/5 [==============================] - 0s 23ms/step - loss: 0.3530 - acc: 0.8865 - val_loss: 0.6413 - val_acc: 0.8333\n",
            "Epoch 236/300\n",
            "5/5 [==============================] - 0s 27ms/step - loss: 0.4057 - acc: 0.8803 - val_loss: 0.6990 - val_acc: 0.8182\n",
            "Epoch 237/300\n",
            "5/5 [==============================] - 0s 23ms/step - loss: 0.3744 - acc: 0.8803 - val_loss: 0.6920 - val_acc: 0.8232\n",
            "Epoch 238/300\n",
            "5/5 [==============================] - 0s 26ms/step - loss: 0.3526 - acc: 0.8883 - val_loss: 0.6484 - val_acc: 0.8384\n",
            "Epoch 239/300\n",
            "5/5 [==============================] - 0s 23ms/step - loss: 0.3531 - acc: 0.8937 - val_loss: 0.6547 - val_acc: 0.8636\n",
            "Epoch 240/300\n",
            "5/5 [==============================] - 0s 27ms/step - loss: 0.3147 - acc: 0.8990 - val_loss: 0.6978 - val_acc: 0.8434\n",
            "Epoch 241/300\n",
            "5/5 [==============================] - 0s 26ms/step - loss: 0.4026 - acc: 0.8749 - val_loss: 0.7444 - val_acc: 0.8283\n",
            "Epoch 242/300\n",
            "5/5 [==============================] - 0s 22ms/step - loss: 0.3864 - acc: 0.8767 - val_loss: 0.7507 - val_acc: 0.8081\n",
            "Epoch 243/300\n",
            "5/5 [==============================] - 0s 22ms/step - loss: 0.3510 - acc: 0.8910 - val_loss: 0.7197 - val_acc: 0.8081\n",
            "Epoch 244/300\n",
            "5/5 [==============================] - 0s 27ms/step - loss: 0.3758 - acc: 0.8892 - val_loss: 0.6817 - val_acc: 0.8283\n",
            "Epoch 245/300\n",
            "5/5 [==============================] - 0s 26ms/step - loss: 0.3366 - acc: 0.8874 - val_loss: 0.7198 - val_acc: 0.8232\n",
            "Epoch 246/300\n",
            "5/5 [==============================] - 0s 27ms/step - loss: 0.3359 - acc: 0.8919 - val_loss: 0.7321 - val_acc: 0.8283\n",
            "Epoch 247/300\n",
            "5/5 [==============================] - 0s 26ms/step - loss: 0.3874 - acc: 0.8794 - val_loss: 0.6724 - val_acc: 0.8434\n",
            "Epoch 248/300\n",
            "5/5 [==============================] - 0s 22ms/step - loss: 0.3425 - acc: 0.8838 - val_loss: 0.6731 - val_acc: 0.8232\n",
            "Epoch 249/300\n",
            "5/5 [==============================] - 0s 28ms/step - loss: 0.3432 - acc: 0.8928 - val_loss: 0.6700 - val_acc: 0.8333\n",
            "Epoch 250/300\n",
            "5/5 [==============================] - 0s 25ms/step - loss: 0.3568 - acc: 0.8928 - val_loss: 0.7131 - val_acc: 0.8384\n",
            "Epoch 251/300\n",
            "5/5 [==============================] - 0s 25ms/step - loss: 0.3574 - acc: 0.8892 - val_loss: 0.7269 - val_acc: 0.8434\n",
            "Epoch 252/300\n",
            "5/5 [==============================] - 0s 27ms/step - loss: 0.3411 - acc: 0.8990 - val_loss: 0.6849 - val_acc: 0.8434\n",
            "Epoch 253/300\n",
            "5/5 [==============================] - 0s 27ms/step - loss: 0.3354 - acc: 0.9053 - val_loss: 0.6664 - val_acc: 0.8384\n",
            "Epoch 254/300\n",
            "5/5 [==============================] - 0s 24ms/step - loss: 0.3737 - acc: 0.8829 - val_loss: 0.6507 - val_acc: 0.8485\n",
            "Epoch 255/300\n",
            "5/5 [==============================] - 0s 26ms/step - loss: 0.3344 - acc: 0.8954 - val_loss: 0.6587 - val_acc: 0.8434\n",
            "Epoch 256/300\n",
            "5/5 [==============================] - 0s 27ms/step - loss: 0.3047 - acc: 0.8990 - val_loss: 0.6723 - val_acc: 0.8485\n",
            "Epoch 257/300\n",
            "5/5 [==============================] - 0s 27ms/step - loss: 0.3485 - acc: 0.8901 - val_loss: 0.6623 - val_acc: 0.8535\n",
            "Epoch 258/300\n",
            "5/5 [==============================] - 0s 24ms/step - loss: 0.3706 - acc: 0.8820 - val_loss: 0.6242 - val_acc: 0.8485\n",
            "Epoch 259/300\n",
            "5/5 [==============================] - 0s 26ms/step - loss: 0.3120 - acc: 0.9080 - val_loss: 0.6109 - val_acc: 0.8535\n",
            "Epoch 260/300\n",
            "5/5 [==============================] - 0s 25ms/step - loss: 0.3292 - acc: 0.9035 - val_loss: 0.6325 - val_acc: 0.8535\n",
            "Epoch 261/300\n",
            "5/5 [==============================] - 0s 25ms/step - loss: 0.3582 - acc: 0.8883 - val_loss: 0.6306 - val_acc: 0.8535\n",
            "Epoch 262/300\n",
            "5/5 [==============================] - 0s 25ms/step - loss: 0.3483 - acc: 0.8945 - val_loss: 0.6162 - val_acc: 0.8535\n",
            "Epoch 263/300\n",
            "5/5 [==============================] - 0s 21ms/step - loss: 0.3522 - acc: 0.8883 - val_loss: 0.6489 - val_acc: 0.8535\n",
            "Epoch 264/300\n",
            "5/5 [==============================] - 0s 26ms/step - loss: 0.3357 - acc: 0.8910 - val_loss: 0.7297 - val_acc: 0.8283\n",
            "Epoch 265/300\n",
            "5/5 [==============================] - 0s 27ms/step - loss: 0.3443 - acc: 0.8945 - val_loss: 0.7747 - val_acc: 0.8232\n",
            "Epoch 266/300\n",
            "5/5 [==============================] - 0s 27ms/step - loss: 0.4027 - acc: 0.8731 - val_loss: 0.7863 - val_acc: 0.8283\n",
            "Epoch 267/300\n",
            "5/5 [==============================] - 0s 22ms/step - loss: 0.3655 - acc: 0.8892 - val_loss: 0.7525 - val_acc: 0.8232\n",
            "Epoch 268/300\n",
            "5/5 [==============================] - 0s 36ms/step - loss: 0.3550 - acc: 0.8937 - val_loss: 0.6787 - val_acc: 0.8232\n"
          ]
        }
      ],
      "source": [
        "x_train = train_data.paper_id.to_numpy()\n",
        "history = run_experiment(gnn_model, x_train, y_train)"
      ]
    },
    {
      "cell_type": "markdown",
      "metadata": {
        "id": "rgHQniMze8kq"
      },
      "source": [
        "Let's plot the learning curves"
      ]
    },
    {
      "cell_type": "code",
      "execution_count": null,
      "metadata": {
        "id": "cF9KBGJxe8kq",
        "outputId": "67d3b210-2ccd-4bbb-b174-f093dcdc5aa6",
        "colab": {
          "base_uri": "https://localhost:8080/",
          "height": 334
        }
      },
      "outputs": [
        {
          "output_type": "display_data",
          "data": {
            "text/plain": [
              "<Figure size 1080x360 with 2 Axes>"
            ],
            "image/png": "[encoded data removed]"
          },
          "metadata": {
            "needs_background": "light"
          }
        }
      ],
      "source": [
        "display_learning_curves(history)"
      ]
    },
    {
      "cell_type": "markdown",
      "metadata": {
        "id": "_FZMreF_e8kq"
      },
      "source": [
        "Now we evaluate the GNN model on the test data split.\n",
        "The results may vary depending on the training sample, however the GNN model always outperforms\n",
        "the baseline model in terms of the test accuracy."
      ]
    },
    {
      "cell_type": "code",
      "execution_count": null,
      "metadata": {
        "id": "oXgnSgRwe8kq",
        "outputId": "3facd653-5420-4cd1-f1dd-fadfdcf95507",
        "colab": {
          "base_uri": "https://localhost:8080/"
        }
      },
      "outputs": [
        {
          "output_type": "stream",
          "name": "stdout",
          "text": [
            "Test accuracy: 80.37%\n"
          ]
        }
      ],
      "source": [
        "x_test = test_data.paper_id.to_numpy()\n",
        "_, test_accuracy = gnn_model.evaluate(x=x_test, y=y_test, verbose=0)\n",
        "print(f\"Test accuracy: {round(test_accuracy * 100, 2)}%\")"
      ]
    },
    {
      "cell_type": "markdown",
      "metadata": {
        "id": "5EgburFye8kq"
      },
      "source": [
        "### Examine the GNN model predictions\n",
        "\n",
        "Let's add the new instances as nodes to the `node_features`, and generate links\n",
        "(citations) to existing nodes."
      ]
    },
    {
      "cell_type": "code",
      "execution_count": null,
      "metadata": {
        "id": "m8FQ-Uuxe8kq"
      },
      "outputs": [],
      "source": [
        "# First we add the N new_instances as nodes to the graph\n",
        "# by appending the new_instance to node_features.\n",
        "num_nodes = node_features.shape[0]\n",
        "new_node_features = np.concatenate([node_features, new_instances])\n",
        "# Second we add the M edges (citations) from each new node to a set\n",
        "# of existing nodes in a particular subject\n",
        "new_node_indices = [i + num_nodes for i in range(num_classes)]\n",
        "new_citations = []\n",
        "for subject_idx, group in papers.groupby(\"subject\"):\n",
        "    subject_papers = list(group.paper_id)\n",
        "    # Select random x papers specific subject.\n",
        "    selected_paper_indices1 = np.random.choice(subject_papers, 5)\n",
        "    # Select random y papers from any subject (where y < x).\n",
        "    selected_paper_indices2 = np.random.choice(list(papers.paper_id), 2)\n",
        "    # Merge the selected paper indices.\n",
        "    selected_paper_indices = np.concatenate(\n",
        "        [selected_paper_indices1, selected_paper_indices2], axis=0\n",
        "    )\n",
        "    # Create edges between a citing paper idx and the selected cited papers.\n",
        "    citing_paper_indx = new_node_indices[subject_idx]\n",
        "    for cited_paper_idx in selected_paper_indices:\n",
        "        new_citations.append([citing_paper_indx, cited_paper_idx])\n",
        "\n",
        "new_citations = np.array(new_citations).T\n",
        "new_edges = np.concatenate([edges, new_citations], axis=1)"
      ]
    },
    {
      "cell_type": "markdown",
      "metadata": {
        "id": "xFg1Wlr5e8kr"
      },
      "source": [
        "Now let's update the `node_features` and the `edges` in the GNN model."
      ]
    },
    {
      "cell_type": "code",
      "execution_count": null,
      "metadata": {
        "id": "8VqgA8mre8kr",
        "outputId": "0e78be1b-010b-4e62-bb29-5f52191b15c8",
        "colab": {
          "base_uri": "https://localhost:8080/"
        }
      },
      "outputs": [
        {
          "output_type": "stream",
          "name": "stdout",
          "text": [
            "Original node_features shape: (2708, 1433)\n",
            "Original edges shape: (2, 5429)\n",
            "New node_features shape: (2715, 1433)\n",
            "New edges shape: (2, 5478)\n",
            "1/1 [==============================] - 2s 2s/step\n",
            "Instance 1:\n",
            "- Case_Based: 97.89%\n",
            "- Genetic_Algorithms: 0.28%\n",
            "- Neural_Networks: 0.06%\n",
            "- Probabilistic_Methods: 0.04%\n",
            "- Reinforcement_Learning: 0.02%\n",
            "- Rule_Learning: 1.09%\n",
            "- Theory: 0.62%\n",
            "Instance 2:\n",
            "- Case_Based: 0.04%\n",
            "- Genetic_Algorithms: 0.49%\n",
            "- Neural_Networks: 98.46%\n",
            "- Probabilistic_Methods: 0.08%\n",
            "- Reinforcement_Learning: 0.42%\n",
            "- Rule_Learning: 0.06%\n",
            "- Theory: 0.45%\n",
            "Instance 3:\n",
            "- Case_Based: 0.0%\n",
            "- Genetic_Algorithms: 0.0%\n",
            "- Neural_Networks: 99.98%\n",
            "- Probabilistic_Methods: 0.01%\n",
            "- Reinforcement_Learning: 0.0%\n",
            "- Rule_Learning: 0.0%\n",
            "- Theory: 0.01%\n",
            "Instance 4:\n",
            "- Case_Based: 0.24%\n",
            "- Genetic_Algorithms: 0.02%\n",
            "- Neural_Networks: 1.3%\n",
            "- Probabilistic_Methods: 96.77%\n",
            "- Reinforcement_Learning: 0.04%\n",
            "- Rule_Learning: 0.29%\n",
            "- Theory: 1.34%\n",
            "Instance 5:\n",
            "- Case_Based: 0.73%\n",
            "- Genetic_Algorithms: 0.09%\n",
            "- Neural_Networks: 1.55%\n",
            "- Probabilistic_Methods: 91.02%\n",
            "- Reinforcement_Learning: 0.25%\n",
            "- Rule_Learning: 3.58%\n",
            "- Theory: 2.77%\n",
            "Instance 6:\n",
            "- Case_Based: 54.17%\n",
            "- Genetic_Algorithms: 8.18%\n",
            "- Neural_Networks: 0.54%\n",
            "- Probabilistic_Methods: 0.29%\n",
            "- Reinforcement_Learning: 0.95%\n",
            "- Rule_Learning: 32.17%\n",
            "- Theory: 3.7%\n",
            "Instance 7:\n",
            "- Case_Based: 44.44%\n",
            "- Genetic_Algorithms: 3.82%\n",
            "- Neural_Networks: 3.12%\n",
            "- Probabilistic_Methods: 1.42%\n",
            "- Reinforcement_Learning: 0.68%\n",
            "- Rule_Learning: 24.03%\n",
            "- Theory: 22.5%\n"
          ]
        }
      ],
      "source": [
        "print(\"Original node_features shape:\", gnn_model.node_features.shape)\n",
        "print(\"Original edges shape:\", gnn_model.edges.shape)\n",
        "gnn_model.node_features = new_node_features\n",
        "gnn_model.edges = new_edges\n",
        "gnn_model.edge_weights = tf.ones(shape=new_edges.shape[1])\n",
        "print(\"New node_features shape:\", gnn_model.node_features.shape)\n",
        "print(\"New edges shape:\", gnn_model.edges.shape)\n",
        "\n",
        "logits = gnn_model.predict(tf.convert_to_tensor(new_node_indices))\n",
        "probabilities = keras.activations.softmax(tf.convert_to_tensor(logits)).numpy()\n",
        "display_class_probabilities(probabilities)"
      ]
    },
    {
      "cell_type": "markdown",
      "metadata": {
        "id": "4Y3aH-Kae8kr"
      },
      "source": [
        "Notice that the probabilities of the expected subjects\n",
        "(to which several citations are added) are higher compared to the baseline model."
      ]
    }
  ],
  "metadata": {
    "accelerator": "GPU",
    "colab": {
      "provenance": [],
      "toc_visible": true,
      "include_colab_link": true
    },
    "kernelspec": {
      "display_name": "Python 3",
      "language": "python",
      "name": "python3"
    },
    "language_info": {
      "codemirror_mode": {
        "name": "ipython",
        "version": 3
      },
      "file_extension": ".py",
      "mimetype": "text/x-python",
      "name": "python",
      "nbconvert_exporter": "python",
      "pygments_lexer": "ipython3",
      "version": "3.7.0"
    }
  },
  "nbformat": 4,
  "nbformat_minor": 0
}